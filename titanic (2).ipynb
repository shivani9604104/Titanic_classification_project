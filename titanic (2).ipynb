{
 "cells": [
  {
   "cell_type": "code",
   "execution_count": 414,
   "id": "bfb34cc7",
   "metadata": {},
   "outputs": [],
   "source": [
    "import sqlite3\n",
    "import math \n",
    "import statistics\n",
    "import pandas as pd\n",
    "import numpy as np\n",
    "import matplotlib.pyplot as plt\n",
    "import warnings \n",
    "warnings.filterwarnings(\"ignore\")\n",
    "import seaborn as sns\n",
    "\n",
    "# Preprocessing\n",
    "from sklearn.preprocessing import OneHotEncoder, LabelEncoder, label_binarize\n",
    "\n",
    "# Machine Learning\n",
    "\n",
    "from sklearn.model_selection import train_test_split\n",
    "from sklearn import model_selection, tree, preprocessing, metrics, linear_model\n",
    "from sklearn.svm import LinearSVC\n",
    "from sklearn.ensemble import GradientBoostingClassifier\n",
    "from sklearn.neighbors import KNeighborsClassifier\n",
    "from sklearn.naive_bayes import GaussianNB\n",
    "from sklearn.linear_model import LinearRegression, LogisticRegression, SGDClassifier\n",
    "from sklearn.tree import DecisionTreeClassifier\n",
    "\n",
    "\n",
    "# Ignore Warnings\n",
    "import warnings\n",
    "warnings.filterwarnings('ignore')"
   ]
  },
  {
   "cell_type": "code",
   "execution_count": 2,
   "id": "63d80db3",
   "metadata": {},
   "outputs": [],
   "source": [
    "conn = sqlite3.connect(\"titanic_classification.db\")\n",
    "cursor = conn.cursor()"
   ]
  },
  {
   "cell_type": "code",
   "execution_count": 3,
   "id": "d7691492",
   "metadata": {},
   "outputs": [
    {
     "name": "stdout",
     "output_type": "stream",
     "text": [
      "('table', 'gender_submission', 'gender_submission', 3, 'CREATE TABLE \"gender_submission\" (\\n\"PassengerId\" INTEGER,\\n  \"Survived\" INTEGER\\n)')\n",
      "('table', 'test', 'test', 4, 'CREATE TABLE \"test\" (\\n\"PassengerId\" INTEGER,\\n  \"Pclass\" INTEGER,\\n  \"Name\" TEXT,\\n  \"Sex\" TEXT,\\n  \"Age\" REAL,\\n  \"SibSp\" INTEGER,\\n  \"Parch\" INTEGER,\\n  \"Ticket\" TEXT,\\n  \"Fare\" REAL,\\n  \"Cabin\" TEXT,\\n  \"Embarked\" TEXT\\n)')\n",
      "('table', 'train', 'train', 13, 'CREATE TABLE \"train\" (\\n\"PassengerId\" INTEGER,\\n  \"Survived\" INTEGER,\\n  \"Pclass\" INTEGER,\\n  \"Name\" TEXT,\\n  \"Sex\" TEXT,\\n  \"Age\" REAL,\\n  \"SibSp\" INTEGER,\\n  \"Parch\" INTEGER,\\n  \"Ticket\" TEXT,\\n  \"Fare\" REAL,\\n  \"Cabin\" TEXT,\\n  \"Embarked\" TEXT\\n)')\n"
     ]
    }
   ],
   "source": [
    "import sqlite3\n",
    "\n",
    "conn = sqlite3.connect('titanic_classification.db')\n",
    "cursor = conn.cursor()\n",
    "\n",
    "cursor.execute(\"SELECT * FROM sqlite_master\")\n",
    "result = cursor.fetchall()\n",
    "\n",
    "# Print active connections\n",
    "for row in result:\n",
    "    print(row)"
   ]
  },
  {
   "cell_type": "code",
   "execution_count": 4,
   "id": "275b8a67",
   "metadata": {},
   "outputs": [
    {
     "data": {
      "text/html": [
       "<div>\n",
       "<style scoped>\n",
       "    .dataframe tbody tr th:only-of-type {\n",
       "        vertical-align: middle;\n",
       "    }\n",
       "\n",
       "    .dataframe tbody tr th {\n",
       "        vertical-align: top;\n",
       "    }\n",
       "\n",
       "    .dataframe thead th {\n",
       "        text-align: right;\n",
       "    }\n",
       "</style>\n",
       "<table border=\"1\" class=\"dataframe\">\n",
       "  <thead>\n",
       "    <tr style=\"text-align: right;\">\n",
       "      <th></th>\n",
       "      <th>PassengerId</th>\n",
       "      <th>Survived</th>\n",
       "    </tr>\n",
       "  </thead>\n",
       "  <tbody>\n",
       "    <tr>\n",
       "      <th>0</th>\n",
       "      <td>892</td>\n",
       "      <td>0</td>\n",
       "    </tr>\n",
       "    <tr>\n",
       "      <th>1</th>\n",
       "      <td>893</td>\n",
       "      <td>1</td>\n",
       "    </tr>\n",
       "    <tr>\n",
       "      <th>2</th>\n",
       "      <td>894</td>\n",
       "      <td>0</td>\n",
       "    </tr>\n",
       "    <tr>\n",
       "      <th>3</th>\n",
       "      <td>895</td>\n",
       "      <td>0</td>\n",
       "    </tr>\n",
       "    <tr>\n",
       "      <th>4</th>\n",
       "      <td>896</td>\n",
       "      <td>1</td>\n",
       "    </tr>\n",
       "  </tbody>\n",
       "</table>\n",
       "</div>"
      ],
      "text/plain": [
       "   PassengerId  Survived\n",
       "0          892         0\n",
       "1          893         1\n",
       "2          894         0\n",
       "3          895         0\n",
       "4          896         1"
      ]
     },
     "execution_count": 4,
     "metadata": {},
     "output_type": "execute_result"
    }
   ],
   "source": [
    "gender = pd.read_csv(\"C:/Users/vktof/Downloads/gender_submission.csv\")\n",
    "gender.head()"
   ]
  },
  {
   "cell_type": "code",
   "execution_count": 7,
   "id": "b55172a3",
   "metadata": {},
   "outputs": [
    {
     "data": {
      "text/html": [
       "<div>\n",
       "<style scoped>\n",
       "    .dataframe tbody tr th:only-of-type {\n",
       "        vertical-align: middle;\n",
       "    }\n",
       "\n",
       "    .dataframe tbody tr th {\n",
       "        vertical-align: top;\n",
       "    }\n",
       "\n",
       "    .dataframe thead th {\n",
       "        text-align: right;\n",
       "    }\n",
       "</style>\n",
       "<table border=\"1\" class=\"dataframe\">\n",
       "  <thead>\n",
       "    <tr style=\"text-align: right;\">\n",
       "      <th></th>\n",
       "      <th>PassengerId</th>\n",
       "      <th>Pclass</th>\n",
       "      <th>Name</th>\n",
       "      <th>Sex</th>\n",
       "      <th>Age</th>\n",
       "      <th>SibSp</th>\n",
       "      <th>Parch</th>\n",
       "      <th>Ticket</th>\n",
       "      <th>Fare</th>\n",
       "      <th>Cabin</th>\n",
       "      <th>Embarked</th>\n",
       "    </tr>\n",
       "  </thead>\n",
       "  <tbody>\n",
       "    <tr>\n",
       "      <th>0</th>\n",
       "      <td>892</td>\n",
       "      <td>3</td>\n",
       "      <td>Kelly, Mr. James</td>\n",
       "      <td>male</td>\n",
       "      <td>34.5</td>\n",
       "      <td>0</td>\n",
       "      <td>0</td>\n",
       "      <td>330911</td>\n",
       "      <td>7.8292</td>\n",
       "      <td>NaN</td>\n",
       "      <td>Q</td>\n",
       "    </tr>\n",
       "    <tr>\n",
       "      <th>1</th>\n",
       "      <td>893</td>\n",
       "      <td>3</td>\n",
       "      <td>Wilkes, Mrs. James (Ellen Needs)</td>\n",
       "      <td>female</td>\n",
       "      <td>47.0</td>\n",
       "      <td>1</td>\n",
       "      <td>0</td>\n",
       "      <td>363272</td>\n",
       "      <td>7.0000</td>\n",
       "      <td>NaN</td>\n",
       "      <td>S</td>\n",
       "    </tr>\n",
       "    <tr>\n",
       "      <th>2</th>\n",
       "      <td>894</td>\n",
       "      <td>2</td>\n",
       "      <td>Myles, Mr. Thomas Francis</td>\n",
       "      <td>male</td>\n",
       "      <td>62.0</td>\n",
       "      <td>0</td>\n",
       "      <td>0</td>\n",
       "      <td>240276</td>\n",
       "      <td>9.6875</td>\n",
       "      <td>NaN</td>\n",
       "      <td>Q</td>\n",
       "    </tr>\n",
       "    <tr>\n",
       "      <th>3</th>\n",
       "      <td>895</td>\n",
       "      <td>3</td>\n",
       "      <td>Wirz, Mr. Albert</td>\n",
       "      <td>male</td>\n",
       "      <td>27.0</td>\n",
       "      <td>0</td>\n",
       "      <td>0</td>\n",
       "      <td>315154</td>\n",
       "      <td>8.6625</td>\n",
       "      <td>NaN</td>\n",
       "      <td>S</td>\n",
       "    </tr>\n",
       "    <tr>\n",
       "      <th>4</th>\n",
       "      <td>896</td>\n",
       "      <td>3</td>\n",
       "      <td>Hirvonen, Mrs. Alexander (Helga E Lindqvist)</td>\n",
       "      <td>female</td>\n",
       "      <td>22.0</td>\n",
       "      <td>1</td>\n",
       "      <td>1</td>\n",
       "      <td>3101298</td>\n",
       "      <td>12.2875</td>\n",
       "      <td>NaN</td>\n",
       "      <td>S</td>\n",
       "    </tr>\n",
       "  </tbody>\n",
       "</table>\n",
       "</div>"
      ],
      "text/plain": [
       "   PassengerId  Pclass                                          Name     Sex  \\\n",
       "0          892       3                              Kelly, Mr. James    male   \n",
       "1          893       3              Wilkes, Mrs. James (Ellen Needs)  female   \n",
       "2          894       2                     Myles, Mr. Thomas Francis    male   \n",
       "3          895       3                              Wirz, Mr. Albert    male   \n",
       "4          896       3  Hirvonen, Mrs. Alexander (Helga E Lindqvist)  female   \n",
       "\n",
       "    Age  SibSp  Parch   Ticket     Fare Cabin Embarked  \n",
       "0  34.5      0      0   330911   7.8292   NaN        Q  \n",
       "1  47.0      1      0   363272   7.0000   NaN        S  \n",
       "2  62.0      0      0   240276   9.6875   NaN        Q  \n",
       "3  27.0      0      0   315154   8.6625   NaN        S  \n",
       "4  22.0      1      1  3101298  12.2875   NaN        S  "
      ]
     },
     "execution_count": 7,
     "metadata": {},
     "output_type": "execute_result"
    }
   ],
   "source": [
    "test = pd.read_csv(\"C:/Users/vktof/Downloads/test.csv\")\n",
    "test.head()"
   ]
  },
  {
   "cell_type": "code",
   "execution_count": 6,
   "id": "4a27196f",
   "metadata": {},
   "outputs": [
    {
     "data": {
      "text/html": [
       "<div>\n",
       "<style scoped>\n",
       "    .dataframe tbody tr th:only-of-type {\n",
       "        vertical-align: middle;\n",
       "    }\n",
       "\n",
       "    .dataframe tbody tr th {\n",
       "        vertical-align: top;\n",
       "    }\n",
       "\n",
       "    .dataframe thead th {\n",
       "        text-align: right;\n",
       "    }\n",
       "</style>\n",
       "<table border=\"1\" class=\"dataframe\">\n",
       "  <thead>\n",
       "    <tr style=\"text-align: right;\">\n",
       "      <th></th>\n",
       "      <th>PassengerId</th>\n",
       "      <th>Survived</th>\n",
       "      <th>Pclass</th>\n",
       "      <th>Name</th>\n",
       "      <th>Sex</th>\n",
       "      <th>Age</th>\n",
       "      <th>SibSp</th>\n",
       "      <th>Parch</th>\n",
       "      <th>Ticket</th>\n",
       "      <th>Fare</th>\n",
       "      <th>Cabin</th>\n",
       "      <th>Embarked</th>\n",
       "    </tr>\n",
       "  </thead>\n",
       "  <tbody>\n",
       "    <tr>\n",
       "      <th>0</th>\n",
       "      <td>1</td>\n",
       "      <td>0</td>\n",
       "      <td>3</td>\n",
       "      <td>Braund, Mr. Owen Harris</td>\n",
       "      <td>male</td>\n",
       "      <td>22.0</td>\n",
       "      <td>1</td>\n",
       "      <td>0</td>\n",
       "      <td>A/5 21171</td>\n",
       "      <td>7.2500</td>\n",
       "      <td>NaN</td>\n",
       "      <td>S</td>\n",
       "    </tr>\n",
       "    <tr>\n",
       "      <th>1</th>\n",
       "      <td>2</td>\n",
       "      <td>1</td>\n",
       "      <td>1</td>\n",
       "      <td>Cumings, Mrs. John Bradley (Florence Briggs Th...</td>\n",
       "      <td>female</td>\n",
       "      <td>38.0</td>\n",
       "      <td>1</td>\n",
       "      <td>0</td>\n",
       "      <td>PC 17599</td>\n",
       "      <td>71.2833</td>\n",
       "      <td>C85</td>\n",
       "      <td>C</td>\n",
       "    </tr>\n",
       "    <tr>\n",
       "      <th>2</th>\n",
       "      <td>3</td>\n",
       "      <td>1</td>\n",
       "      <td>3</td>\n",
       "      <td>Heikkinen, Miss. Laina</td>\n",
       "      <td>female</td>\n",
       "      <td>26.0</td>\n",
       "      <td>0</td>\n",
       "      <td>0</td>\n",
       "      <td>STON/O2. 3101282</td>\n",
       "      <td>7.9250</td>\n",
       "      <td>NaN</td>\n",
       "      <td>S</td>\n",
       "    </tr>\n",
       "    <tr>\n",
       "      <th>3</th>\n",
       "      <td>4</td>\n",
       "      <td>1</td>\n",
       "      <td>1</td>\n",
       "      <td>Futrelle, Mrs. Jacques Heath (Lily May Peel)</td>\n",
       "      <td>female</td>\n",
       "      <td>35.0</td>\n",
       "      <td>1</td>\n",
       "      <td>0</td>\n",
       "      <td>113803</td>\n",
       "      <td>53.1000</td>\n",
       "      <td>C123</td>\n",
       "      <td>S</td>\n",
       "    </tr>\n",
       "    <tr>\n",
       "      <th>4</th>\n",
       "      <td>5</td>\n",
       "      <td>0</td>\n",
       "      <td>3</td>\n",
       "      <td>Allen, Mr. William Henry</td>\n",
       "      <td>male</td>\n",
       "      <td>35.0</td>\n",
       "      <td>0</td>\n",
       "      <td>0</td>\n",
       "      <td>373450</td>\n",
       "      <td>8.0500</td>\n",
       "      <td>NaN</td>\n",
       "      <td>S</td>\n",
       "    </tr>\n",
       "  </tbody>\n",
       "</table>\n",
       "</div>"
      ],
      "text/plain": [
       "   PassengerId  Survived  Pclass  \\\n",
       "0            1         0       3   \n",
       "1            2         1       1   \n",
       "2            3         1       3   \n",
       "3            4         1       1   \n",
       "4            5         0       3   \n",
       "\n",
       "                                                Name     Sex   Age  SibSp  \\\n",
       "0                            Braund, Mr. Owen Harris    male  22.0      1   \n",
       "1  Cumings, Mrs. John Bradley (Florence Briggs Th...  female  38.0      1   \n",
       "2                             Heikkinen, Miss. Laina  female  26.0      0   \n",
       "3       Futrelle, Mrs. Jacques Heath (Lily May Peel)  female  35.0      1   \n",
       "4                           Allen, Mr. William Henry    male  35.0      0   \n",
       "\n",
       "   Parch            Ticket     Fare Cabin Embarked  \n",
       "0      0         A/5 21171   7.2500   NaN        S  \n",
       "1      0          PC 17599  71.2833   C85        C  \n",
       "2      0  STON/O2. 3101282   7.9250   NaN        S  \n",
       "3      0            113803  53.1000  C123        S  \n",
       "4      0            373450   8.0500   NaN        S  "
      ]
     },
     "execution_count": 6,
     "metadata": {},
     "output_type": "execute_result"
    }
   ],
   "source": [
    "train = pd.read_csv(\"C:/Users/vktof/Downloads/train.csv\")\n",
    "train.head()"
   ]
  },
  {
   "cell_type": "code",
   "execution_count": 8,
   "id": "fae08324",
   "metadata": {
    "scrolled": true
   },
   "outputs": [
    {
     "data": {
      "text/plain": [
       "418"
      ]
     },
     "execution_count": 8,
     "metadata": {},
     "output_type": "execute_result"
    }
   ],
   "source": [
    "gender.to_sql('gender_submission',conn,if_exists='replace', index=False,method=\"multi\")"
   ]
  },
  {
   "cell_type": "code",
   "execution_count": 9,
   "id": "6b875092",
   "metadata": {},
   "outputs": [
    {
     "data": {
      "text/plain": [
       "418"
      ]
     },
     "execution_count": 9,
     "metadata": {},
     "output_type": "execute_result"
    }
   ],
   "source": [
    "test.to_sql('test',conn,if_exists='replace', index=False,method=\"multi\")"
   ]
  },
  {
   "cell_type": "code",
   "execution_count": 10,
   "id": "4c435483",
   "metadata": {},
   "outputs": [
    {
     "data": {
      "text/plain": [
       "891"
      ]
     },
     "execution_count": 10,
     "metadata": {},
     "output_type": "execute_result"
    }
   ],
   "source": [
    "train.to_sql('train',conn,if_exists='replace', index=False,method=\"multi\")"
   ]
  },
  {
   "cell_type": "code",
   "execution_count": 53,
   "id": "ffb1d608",
   "metadata": {},
   "outputs": [
    {
     "data": {
      "text/html": [
       "<div>\n",
       "<style scoped>\n",
       "    .dataframe tbody tr th:only-of-type {\n",
       "        vertical-align: middle;\n",
       "    }\n",
       "\n",
       "    .dataframe tbody tr th {\n",
       "        vertical-align: top;\n",
       "    }\n",
       "\n",
       "    .dataframe thead th {\n",
       "        text-align: right;\n",
       "    }\n",
       "</style>\n",
       "<table border=\"1\" class=\"dataframe\">\n",
       "  <thead>\n",
       "    <tr style=\"text-align: right;\">\n",
       "      <th></th>\n",
       "      <th>PassengerId</th>\n",
       "      <th>Pclass</th>\n",
       "      <th>Name</th>\n",
       "      <th>Sex</th>\n",
       "      <th>Age</th>\n",
       "      <th>SibSp</th>\n",
       "      <th>Parch</th>\n",
       "      <th>Ticket</th>\n",
       "      <th>Fare</th>\n",
       "      <th>Cabin</th>\n",
       "      <th>Embarked</th>\n",
       "    </tr>\n",
       "  </thead>\n",
       "  <tbody>\n",
       "    <tr>\n",
       "      <th>0</th>\n",
       "      <td>892</td>\n",
       "      <td>3</td>\n",
       "      <td>Kelly, Mr. James</td>\n",
       "      <td>male</td>\n",
       "      <td>34.5</td>\n",
       "      <td>0</td>\n",
       "      <td>0</td>\n",
       "      <td>330911</td>\n",
       "      <td>7.8292</td>\n",
       "      <td>None</td>\n",
       "      <td>Q</td>\n",
       "    </tr>\n",
       "    <tr>\n",
       "      <th>1</th>\n",
       "      <td>893</td>\n",
       "      <td>3</td>\n",
       "      <td>Wilkes, Mrs. James (Ellen Needs)</td>\n",
       "      <td>female</td>\n",
       "      <td>47.0</td>\n",
       "      <td>1</td>\n",
       "      <td>0</td>\n",
       "      <td>363272</td>\n",
       "      <td>7.0000</td>\n",
       "      <td>None</td>\n",
       "      <td>S</td>\n",
       "    </tr>\n",
       "    <tr>\n",
       "      <th>2</th>\n",
       "      <td>894</td>\n",
       "      <td>2</td>\n",
       "      <td>Myles, Mr. Thomas Francis</td>\n",
       "      <td>male</td>\n",
       "      <td>62.0</td>\n",
       "      <td>0</td>\n",
       "      <td>0</td>\n",
       "      <td>240276</td>\n",
       "      <td>9.6875</td>\n",
       "      <td>None</td>\n",
       "      <td>Q</td>\n",
       "    </tr>\n",
       "    <tr>\n",
       "      <th>3</th>\n",
       "      <td>895</td>\n",
       "      <td>3</td>\n",
       "      <td>Wirz, Mr. Albert</td>\n",
       "      <td>male</td>\n",
       "      <td>27.0</td>\n",
       "      <td>0</td>\n",
       "      <td>0</td>\n",
       "      <td>315154</td>\n",
       "      <td>8.6625</td>\n",
       "      <td>None</td>\n",
       "      <td>S</td>\n",
       "    </tr>\n",
       "    <tr>\n",
       "      <th>4</th>\n",
       "      <td>896</td>\n",
       "      <td>3</td>\n",
       "      <td>Hirvonen, Mrs. Alexander (Helga E Lindqvist)</td>\n",
       "      <td>female</td>\n",
       "      <td>22.0</td>\n",
       "      <td>1</td>\n",
       "      <td>1</td>\n",
       "      <td>3101298</td>\n",
       "      <td>12.2875</td>\n",
       "      <td>None</td>\n",
       "      <td>S</td>\n",
       "    </tr>\n",
       "    <tr>\n",
       "      <th>...</th>\n",
       "      <td>...</td>\n",
       "      <td>...</td>\n",
       "      <td>...</td>\n",
       "      <td>...</td>\n",
       "      <td>...</td>\n",
       "      <td>...</td>\n",
       "      <td>...</td>\n",
       "      <td>...</td>\n",
       "      <td>...</td>\n",
       "      <td>...</td>\n",
       "      <td>...</td>\n",
       "    </tr>\n",
       "    <tr>\n",
       "      <th>413</th>\n",
       "      <td>1305</td>\n",
       "      <td>3</td>\n",
       "      <td>Spector, Mr. Woolf</td>\n",
       "      <td>male</td>\n",
       "      <td>NaN</td>\n",
       "      <td>0</td>\n",
       "      <td>0</td>\n",
       "      <td>A.5. 3236</td>\n",
       "      <td>8.0500</td>\n",
       "      <td>None</td>\n",
       "      <td>S</td>\n",
       "    </tr>\n",
       "    <tr>\n",
       "      <th>414</th>\n",
       "      <td>1306</td>\n",
       "      <td>1</td>\n",
       "      <td>Oliva y Ocana, Dona. Fermina</td>\n",
       "      <td>female</td>\n",
       "      <td>39.0</td>\n",
       "      <td>0</td>\n",
       "      <td>0</td>\n",
       "      <td>PC 17758</td>\n",
       "      <td>108.9000</td>\n",
       "      <td>C105</td>\n",
       "      <td>C</td>\n",
       "    </tr>\n",
       "    <tr>\n",
       "      <th>415</th>\n",
       "      <td>1307</td>\n",
       "      <td>3</td>\n",
       "      <td>Saether, Mr. Simon Sivertsen</td>\n",
       "      <td>male</td>\n",
       "      <td>38.5</td>\n",
       "      <td>0</td>\n",
       "      <td>0</td>\n",
       "      <td>SOTON/O.Q. 3101262</td>\n",
       "      <td>7.2500</td>\n",
       "      <td>None</td>\n",
       "      <td>S</td>\n",
       "    </tr>\n",
       "    <tr>\n",
       "      <th>416</th>\n",
       "      <td>1308</td>\n",
       "      <td>3</td>\n",
       "      <td>Ware, Mr. Frederick</td>\n",
       "      <td>male</td>\n",
       "      <td>NaN</td>\n",
       "      <td>0</td>\n",
       "      <td>0</td>\n",
       "      <td>359309</td>\n",
       "      <td>8.0500</td>\n",
       "      <td>None</td>\n",
       "      <td>S</td>\n",
       "    </tr>\n",
       "    <tr>\n",
       "      <th>417</th>\n",
       "      <td>1309</td>\n",
       "      <td>3</td>\n",
       "      <td>Peter, Master. Michael J</td>\n",
       "      <td>male</td>\n",
       "      <td>NaN</td>\n",
       "      <td>1</td>\n",
       "      <td>1</td>\n",
       "      <td>2668</td>\n",
       "      <td>22.3583</td>\n",
       "      <td>None</td>\n",
       "      <td>C</td>\n",
       "    </tr>\n",
       "  </tbody>\n",
       "</table>\n",
       "<p>418 rows × 11 columns</p>\n",
       "</div>"
      ],
      "text/plain": [
       "     PassengerId  Pclass                                          Name  \\\n",
       "0            892       3                              Kelly, Mr. James   \n",
       "1            893       3              Wilkes, Mrs. James (Ellen Needs)   \n",
       "2            894       2                     Myles, Mr. Thomas Francis   \n",
       "3            895       3                              Wirz, Mr. Albert   \n",
       "4            896       3  Hirvonen, Mrs. Alexander (Helga E Lindqvist)   \n",
       "..           ...     ...                                           ...   \n",
       "413         1305       3                            Spector, Mr. Woolf   \n",
       "414         1306       1                  Oliva y Ocana, Dona. Fermina   \n",
       "415         1307       3                  Saether, Mr. Simon Sivertsen   \n",
       "416         1308       3                           Ware, Mr. Frederick   \n",
       "417         1309       3                      Peter, Master. Michael J   \n",
       "\n",
       "        Sex   Age  SibSp  Parch              Ticket      Fare Cabin Embarked  \n",
       "0      male  34.5      0      0              330911    7.8292  None        Q  \n",
       "1    female  47.0      1      0              363272    7.0000  None        S  \n",
       "2      male  62.0      0      0              240276    9.6875  None        Q  \n",
       "3      male  27.0      0      0              315154    8.6625  None        S  \n",
       "4    female  22.0      1      1             3101298   12.2875  None        S  \n",
       "..      ...   ...    ...    ...                 ...       ...   ...      ...  \n",
       "413    male   NaN      0      0           A.5. 3236    8.0500  None        S  \n",
       "414  female  39.0      0      0            PC 17758  108.9000  C105        C  \n",
       "415    male  38.5      0      0  SOTON/O.Q. 3101262    7.2500  None        S  \n",
       "416    male   NaN      0      0              359309    8.0500  None        S  \n",
       "417    male   NaN      1      1                2668   22.3583  None        C  \n",
       "\n",
       "[418 rows x 11 columns]"
      ]
     },
     "execution_count": 53,
     "metadata": {},
     "output_type": "execute_result"
    }
   ],
   "source": [
    "pd.read_sql_query(\"select * from test \",conn)"
   ]
  },
  {
   "cell_type": "code",
   "execution_count": 140,
   "id": "4037e80e",
   "metadata": {},
   "outputs": [
    {
     "name": "stdout",
     "output_type": "stream",
     "text": [
      "('gender_submission',)\n",
      "('test',)\n",
      "('train',)\n",
      "('train_dis',)\n"
     ]
    }
   ],
   "source": [
    "cursor.execute('select name from sqlite_master where type=\"table\" ')\n",
    "for x in cursor:\n",
    "    print(x)"
   ]
  },
  {
   "cell_type": "markdown",
   "id": "6ac5bf73",
   "metadata": {},
   "source": [
    "                               DROP TABLE TITIANIC"
   ]
  },
  {
   "cell_type": "code",
   "execution_count": 12,
   "id": "2aa7dc44",
   "metadata": {},
   "outputs": [
    {
     "ename": "OperationalError",
     "evalue": "no such table: titanic",
     "output_type": "error",
     "traceback": [
      "\u001b[1;31m---------------------------------------------------------------------------\u001b[0m",
      "\u001b[1;31mOperationalError\u001b[0m                          Traceback (most recent call last)",
      "Cell \u001b[1;32mIn[12], line 1\u001b[0m\n\u001b[1;32m----> 1\u001b[0m cursor\u001b[38;5;241m.\u001b[39mexecute(\u001b[38;5;124m'\u001b[39m\u001b[38;5;124mDROP table titanic \u001b[39m\u001b[38;5;124m'\u001b[39m)\n\u001b[0;32m      2\u001b[0m \u001b[38;5;28;01mfor\u001b[39;00m x \u001b[38;5;129;01min\u001b[39;00m cursor:\n\u001b[0;32m      3\u001b[0m     \u001b[38;5;28mprint\u001b[39m(x)\n",
      "\u001b[1;31mOperationalError\u001b[0m: no such table: titanic"
     ]
    }
   ],
   "source": [
    "cursor.execute('DROP table titanic ')\n",
    "for x in cursor:\n",
    "    print(x)"
   ]
  },
  {
   "cell_type": "markdown",
   "id": "e455bd64",
   "metadata": {},
   "source": [
    "                       FINDING HOW MANY COLUMN IN OUR TABLE        "
   ]
  },
  {
   "cell_type": "code",
   "execution_count": 13,
   "id": "c59313d0",
   "metadata": {},
   "outputs": [
    {
     "name": "stdout",
     "output_type": "stream",
     "text": [
      "(2,)\n"
     ]
    }
   ],
   "source": [
    "cursor.execute('select COUNT(name) from PRAGMA_TABLE_INFO(\"gender_submission\") ')\n",
    "for x in cursor:\n",
    "    print(x)"
   ]
  },
  {
   "cell_type": "markdown",
   "id": "b486bcb9",
   "metadata": {},
   "source": [
    "                   FINDING COLUMN NAME,TYPE,LENGTH"
   ]
  },
  {
   "cell_type": "code",
   "execution_count": 14,
   "id": "b0cd7841",
   "metadata": {},
   "outputs": [
    {
     "name": "stdout",
     "output_type": "stream",
     "text": [
      "('PassengerId', 'INTEGER', 7)\n",
      "('Survived', 'INTEGER', 7)\n"
     ]
    }
   ],
   "source": [
    "cursor.execute('select name,type ,length(type) from PRAGMA_TABLE_INFO(\"gender_submission\")')\n",
    "for x in cursor:\n",
    "    print(x)"
   ]
  },
  {
   "cell_type": "code",
   "execution_count": 15,
   "id": "72c59e03",
   "metadata": {},
   "outputs": [
    {
     "name": "stdout",
     "output_type": "stream",
     "text": [
      "('PassengerId', 'INTEGER', 7)\n",
      "('Pclass', 'INTEGER', 7)\n",
      "('Name', 'TEXT', 4)\n",
      "('Sex', 'TEXT', 4)\n",
      "('Age', 'REAL', 4)\n",
      "('SibSp', 'INTEGER', 7)\n",
      "('Parch', 'INTEGER', 7)\n",
      "('Ticket', 'TEXT', 4)\n",
      "('Fare', 'REAL', 4)\n",
      "('Cabin', 'TEXT', 4)\n",
      "('Embarked', 'TEXT', 4)\n"
     ]
    }
   ],
   "source": [
    "cursor.execute('select name,type ,length(type) from PRAGMA_TABLE_INFO(\"test\")')\n",
    "for x in cursor:\n",
    "    print(x)"
   ]
  },
  {
   "cell_type": "code",
   "execution_count": 16,
   "id": "b6cb4f9d",
   "metadata": {},
   "outputs": [
    {
     "name": "stdout",
     "output_type": "stream",
     "text": [
      "('PassengerId', 'INTEGER', 7)\n",
      "('Survived', 'INTEGER', 7)\n",
      "('Pclass', 'INTEGER', 7)\n",
      "('Name', 'TEXT', 4)\n",
      "('Sex', 'TEXT', 4)\n",
      "('Age', 'REAL', 4)\n",
      "('SibSp', 'INTEGER', 7)\n",
      "('Parch', 'INTEGER', 7)\n",
      "('Ticket', 'TEXT', 4)\n",
      "('Fare', 'REAL', 4)\n",
      "('Cabin', 'TEXT', 4)\n",
      "('Embarked', 'TEXT', 4)\n"
     ]
    }
   ],
   "source": [
    "cursor.execute('select name,type ,length(type) from PRAGMA_TABLE_INFO(\"train\")')\n",
    "for x in cursor:\n",
    "    print(x)"
   ]
  },
  {
   "cell_type": "markdown",
   "id": "edaf14a7",
   "metadata": {},
   "source": [
    "#        CHECK IS THERE ANY NULL VALUE IN OUR TABLE"
   ]
  },
  {
   "cell_type": "code",
   "execution_count": 8,
   "id": "5d17f40e",
   "metadata": {
    "scrolled": true
   },
   "outputs": [
    {
     "name": "stdout",
     "output_type": "stream",
     "text": [
      "['Age', 'Cabin']\n",
      "(None, None)\n",
      "(None, None)\n",
      "(None, None)\n",
      "(None, None)\n",
      "(None, None)\n",
      "(None, None)\n",
      "(None, None)\n",
      "(None, None)\n",
      "(None, None)\n",
      "(None, None)\n"
     ]
    }
   ],
   "source": [
    "#gender.isnull().sum() # by python method\n",
    "#cursor.execute(\"select PassengerId ,Survived from gender_submission where PassengerId is not null  or Survived is not null limit 5\")\n",
    "#for x in cursor:\n",
    " #   print(x)\n",
    "cursor.execute(\"select Age ,Cabin from train where Age is null and Cabin is null  limit 10\")\n",
    "result= cursor.fetchall()\n",
    "colum_name = [col[0] for col in cursor.description]\n",
    "print( colum_name)\n",
    "for x in result:\n",
    "    print(x)"
   ]
  },
  {
   "cell_type": "code",
   "execution_count": 9,
   "id": "f5aa77ed",
   "metadata": {},
   "outputs": [
    {
     "name": "stdout",
     "output_type": "stream",
     "text": [
      "(892, 3, 'Kelly, Mr. James', 'male', 34.5, 0, 0, '330911', 7.8292, None, 'Q')\n",
      "(893, 3, 'Wilkes, Mrs. James (Ellen Needs)', 'female', 47.0, 1, 0, '363272', 7.0, None, 'S')\n",
      "(894, 2, 'Myles, Mr. Thomas Francis', 'male', 62.0, 0, 0, '240276', 9.6875, None, 'Q')\n",
      "(895, 3, 'Wirz, Mr. Albert', 'male', 27.0, 0, 0, '315154', 8.6625, None, 'S')\n",
      "(896, 3, 'Hirvonen, Mrs. Alexander (Helga E Lindqvist)', 'female', 22.0, 1, 1, '3101298', 12.2875, None, 'S')\n"
     ]
    }
   ],
   "source": [
    "#test.isnull().sum() # by python method\n",
    "cursor.execute(\"select PassengerId,Pclass,Name,Sex,Age,SibSp,Parch,Ticket,Fare,Cabin,Embarked from test where  \\\n",
    "               PassengerId is null or Pclass is  null  or Name is null or Sex is null or Age is null  or Sibsp is not null or \\\n",
    "                  Parch is null  or Ticket is null or Fare is null  or Cabin is  null or Embarked is  null limit 5 \")\n",
    "for x in cursor:\n",
    "   print(x)"
   ]
  },
  {
   "cell_type": "code",
   "execution_count": 19,
   "id": "57128b17",
   "metadata": {},
   "outputs": [
    {
     "data": {
      "text/plain": [
       "PassengerId      0\n",
       "Survived         0\n",
       "Pclass           0\n",
       "Name             0\n",
       "Sex              0\n",
       "Age            177\n",
       "SibSp            0\n",
       "Parch            0\n",
       "Ticket           0\n",
       "Fare             0\n",
       "Cabin          687\n",
       "Embarked         2\n",
       "dtype: int64"
      ]
     },
     "execution_count": 19,
     "metadata": {},
     "output_type": "execute_result"
    }
   ],
   "source": [
    "train.isnull().sum()"
   ]
  },
  {
   "cell_type": "code",
   "execution_count": 12,
   "id": "3f20c70c",
   "metadata": {},
   "outputs": [
    {
     "data": {
      "text/plain": [
       "PassengerId      0\n",
       "Pclass           0\n",
       "Name             0\n",
       "Sex              0\n",
       "Age             86\n",
       "SibSp            0\n",
       "Parch            0\n",
       "Ticket           0\n",
       "Fare             1\n",
       "Cabin          327\n",
       "Embarked         0\n",
       "dtype: int64"
      ]
     },
     "execution_count": 12,
     "metadata": {},
     "output_type": "execute_result"
    }
   ],
   "source": [
    "test.isnull().sum()"
   ]
  },
  {
   "cell_type": "code",
   "execution_count": 14,
   "id": "e4865066",
   "metadata": {},
   "outputs": [
    {
     "data": {
      "text/plain": [
       "PassengerId    0\n",
       "Survived       0\n",
       "dtype: int64"
      ]
     },
     "execution_count": 14,
     "metadata": {},
     "output_type": "execute_result"
    }
   ],
   "source": [
    "gender.isnull().sum()"
   ]
  },
  {
   "cell_type": "code",
   "execution_count": null,
   "id": "352bce84",
   "metadata": {},
   "outputs": [],
   "source": []
  },
  {
   "cell_type": "code",
   "execution_count": 25,
   "id": "88f0d377",
   "metadata": {},
   "outputs": [
    {
     "data": {
      "text/html": [
       "<div>\n",
       "<style scoped>\n",
       "    .dataframe tbody tr th:only-of-type {\n",
       "        vertical-align: middle;\n",
       "    }\n",
       "\n",
       "    .dataframe tbody tr th {\n",
       "        vertical-align: top;\n",
       "    }\n",
       "\n",
       "    .dataframe thead th {\n",
       "        text-align: right;\n",
       "    }\n",
       "</style>\n",
       "<table border=\"1\" class=\"dataframe\">\n",
       "  <thead>\n",
       "    <tr style=\"text-align: right;\">\n",
       "      <th></th>\n",
       "      <th>PassengerId</th>\n",
       "      <th>Survived</th>\n",
       "    </tr>\n",
       "  </thead>\n",
       "  <tbody>\n",
       "    <tr>\n",
       "      <th>count</th>\n",
       "      <td>418.000000</td>\n",
       "      <td>418.000000</td>\n",
       "    </tr>\n",
       "    <tr>\n",
       "      <th>mean</th>\n",
       "      <td>1100.500000</td>\n",
       "      <td>0.363636</td>\n",
       "    </tr>\n",
       "    <tr>\n",
       "      <th>std</th>\n",
       "      <td>120.810458</td>\n",
       "      <td>0.481622</td>\n",
       "    </tr>\n",
       "    <tr>\n",
       "      <th>min</th>\n",
       "      <td>892.000000</td>\n",
       "      <td>0.000000</td>\n",
       "    </tr>\n",
       "    <tr>\n",
       "      <th>25%</th>\n",
       "      <td>996.250000</td>\n",
       "      <td>0.000000</td>\n",
       "    </tr>\n",
       "    <tr>\n",
       "      <th>50%</th>\n",
       "      <td>1100.500000</td>\n",
       "      <td>0.000000</td>\n",
       "    </tr>\n",
       "    <tr>\n",
       "      <th>75%</th>\n",
       "      <td>1204.750000</td>\n",
       "      <td>1.000000</td>\n",
       "    </tr>\n",
       "    <tr>\n",
       "      <th>max</th>\n",
       "      <td>1309.000000</td>\n",
       "      <td>1.000000</td>\n",
       "    </tr>\n",
       "  </tbody>\n",
       "</table>\n",
       "</div>"
      ],
      "text/plain": [
       "       PassengerId    Survived\n",
       "count   418.000000  418.000000\n",
       "mean   1100.500000    0.363636\n",
       "std     120.810458    0.481622\n",
       "min     892.000000    0.000000\n",
       "25%     996.250000    0.000000\n",
       "50%    1100.500000    0.000000\n",
       "75%    1204.750000    1.000000\n",
       "max    1309.000000    1.000000"
      ]
     },
     "execution_count": 25,
     "metadata": {},
     "output_type": "execute_result"
    }
   ],
   "source": [
    "gender.describe()"
   ]
  },
  {
   "cell_type": "code",
   "execution_count": 26,
   "id": "bf36882a",
   "metadata": {},
   "outputs": [
    {
     "data": {
      "text/html": [
       "<div>\n",
       "<style scoped>\n",
       "    .dataframe tbody tr th:only-of-type {\n",
       "        vertical-align: middle;\n",
       "    }\n",
       "\n",
       "    .dataframe tbody tr th {\n",
       "        vertical-align: top;\n",
       "    }\n",
       "\n",
       "    .dataframe thead th {\n",
       "        text-align: right;\n",
       "    }\n",
       "</style>\n",
       "<table border=\"1\" class=\"dataframe\">\n",
       "  <thead>\n",
       "    <tr style=\"text-align: right;\">\n",
       "      <th></th>\n",
       "      <th>PassengerId</th>\n",
       "      <th>Pclass</th>\n",
       "      <th>Age</th>\n",
       "      <th>SibSp</th>\n",
       "      <th>Parch</th>\n",
       "      <th>Fare</th>\n",
       "    </tr>\n",
       "  </thead>\n",
       "  <tbody>\n",
       "    <tr>\n",
       "      <th>count</th>\n",
       "      <td>418.000000</td>\n",
       "      <td>418.000000</td>\n",
       "      <td>332.000000</td>\n",
       "      <td>418.000000</td>\n",
       "      <td>418.000000</td>\n",
       "      <td>417.000000</td>\n",
       "    </tr>\n",
       "    <tr>\n",
       "      <th>mean</th>\n",
       "      <td>1100.500000</td>\n",
       "      <td>2.265550</td>\n",
       "      <td>30.272590</td>\n",
       "      <td>0.447368</td>\n",
       "      <td>0.392344</td>\n",
       "      <td>35.627188</td>\n",
       "    </tr>\n",
       "    <tr>\n",
       "      <th>std</th>\n",
       "      <td>120.810458</td>\n",
       "      <td>0.841838</td>\n",
       "      <td>14.181209</td>\n",
       "      <td>0.896760</td>\n",
       "      <td>0.981429</td>\n",
       "      <td>55.907576</td>\n",
       "    </tr>\n",
       "    <tr>\n",
       "      <th>min</th>\n",
       "      <td>892.000000</td>\n",
       "      <td>1.000000</td>\n",
       "      <td>0.170000</td>\n",
       "      <td>0.000000</td>\n",
       "      <td>0.000000</td>\n",
       "      <td>0.000000</td>\n",
       "    </tr>\n",
       "    <tr>\n",
       "      <th>25%</th>\n",
       "      <td>996.250000</td>\n",
       "      <td>1.000000</td>\n",
       "      <td>21.000000</td>\n",
       "      <td>0.000000</td>\n",
       "      <td>0.000000</td>\n",
       "      <td>7.895800</td>\n",
       "    </tr>\n",
       "    <tr>\n",
       "      <th>50%</th>\n",
       "      <td>1100.500000</td>\n",
       "      <td>3.000000</td>\n",
       "      <td>27.000000</td>\n",
       "      <td>0.000000</td>\n",
       "      <td>0.000000</td>\n",
       "      <td>14.454200</td>\n",
       "    </tr>\n",
       "    <tr>\n",
       "      <th>75%</th>\n",
       "      <td>1204.750000</td>\n",
       "      <td>3.000000</td>\n",
       "      <td>39.000000</td>\n",
       "      <td>1.000000</td>\n",
       "      <td>0.000000</td>\n",
       "      <td>31.500000</td>\n",
       "    </tr>\n",
       "    <tr>\n",
       "      <th>max</th>\n",
       "      <td>1309.000000</td>\n",
       "      <td>3.000000</td>\n",
       "      <td>76.000000</td>\n",
       "      <td>8.000000</td>\n",
       "      <td>9.000000</td>\n",
       "      <td>512.329200</td>\n",
       "    </tr>\n",
       "  </tbody>\n",
       "</table>\n",
       "</div>"
      ],
      "text/plain": [
       "       PassengerId      Pclass         Age       SibSp       Parch        Fare\n",
       "count   418.000000  418.000000  332.000000  418.000000  418.000000  417.000000\n",
       "mean   1100.500000    2.265550   30.272590    0.447368    0.392344   35.627188\n",
       "std     120.810458    0.841838   14.181209    0.896760    0.981429   55.907576\n",
       "min     892.000000    1.000000    0.170000    0.000000    0.000000    0.000000\n",
       "25%     996.250000    1.000000   21.000000    0.000000    0.000000    7.895800\n",
       "50%    1100.500000    3.000000   27.000000    0.000000    0.000000   14.454200\n",
       "75%    1204.750000    3.000000   39.000000    1.000000    0.000000   31.500000\n",
       "max    1309.000000    3.000000   76.000000    8.000000    9.000000  512.329200"
      ]
     },
     "execution_count": 26,
     "metadata": {},
     "output_type": "execute_result"
    }
   ],
   "source": [
    "test.describe()"
   ]
  },
  {
   "cell_type": "code",
   "execution_count": 27,
   "id": "17989499",
   "metadata": {},
   "outputs": [
    {
     "data": {
      "text/html": [
       "<div>\n",
       "<style scoped>\n",
       "    .dataframe tbody tr th:only-of-type {\n",
       "        vertical-align: middle;\n",
       "    }\n",
       "\n",
       "    .dataframe tbody tr th {\n",
       "        vertical-align: top;\n",
       "    }\n",
       "\n",
       "    .dataframe thead th {\n",
       "        text-align: right;\n",
       "    }\n",
       "</style>\n",
       "<table border=\"1\" class=\"dataframe\">\n",
       "  <thead>\n",
       "    <tr style=\"text-align: right;\">\n",
       "      <th></th>\n",
       "      <th>PassengerId</th>\n",
       "      <th>Survived</th>\n",
       "      <th>Pclass</th>\n",
       "      <th>Age</th>\n",
       "      <th>SibSp</th>\n",
       "      <th>Parch</th>\n",
       "      <th>Fare</th>\n",
       "    </tr>\n",
       "  </thead>\n",
       "  <tbody>\n",
       "    <tr>\n",
       "      <th>count</th>\n",
       "      <td>891.000000</td>\n",
       "      <td>891.000000</td>\n",
       "      <td>891.000000</td>\n",
       "      <td>714.000000</td>\n",
       "      <td>891.000000</td>\n",
       "      <td>891.000000</td>\n",
       "      <td>891.000000</td>\n",
       "    </tr>\n",
       "    <tr>\n",
       "      <th>mean</th>\n",
       "      <td>446.000000</td>\n",
       "      <td>0.383838</td>\n",
       "      <td>2.308642</td>\n",
       "      <td>29.699118</td>\n",
       "      <td>0.523008</td>\n",
       "      <td>0.381594</td>\n",
       "      <td>32.204208</td>\n",
       "    </tr>\n",
       "    <tr>\n",
       "      <th>std</th>\n",
       "      <td>257.353842</td>\n",
       "      <td>0.486592</td>\n",
       "      <td>0.836071</td>\n",
       "      <td>14.526497</td>\n",
       "      <td>1.102743</td>\n",
       "      <td>0.806057</td>\n",
       "      <td>49.693429</td>\n",
       "    </tr>\n",
       "    <tr>\n",
       "      <th>min</th>\n",
       "      <td>1.000000</td>\n",
       "      <td>0.000000</td>\n",
       "      <td>1.000000</td>\n",
       "      <td>0.420000</td>\n",
       "      <td>0.000000</td>\n",
       "      <td>0.000000</td>\n",
       "      <td>0.000000</td>\n",
       "    </tr>\n",
       "    <tr>\n",
       "      <th>25%</th>\n",
       "      <td>223.500000</td>\n",
       "      <td>0.000000</td>\n",
       "      <td>2.000000</td>\n",
       "      <td>20.125000</td>\n",
       "      <td>0.000000</td>\n",
       "      <td>0.000000</td>\n",
       "      <td>7.910400</td>\n",
       "    </tr>\n",
       "    <tr>\n",
       "      <th>50%</th>\n",
       "      <td>446.000000</td>\n",
       "      <td>0.000000</td>\n",
       "      <td>3.000000</td>\n",
       "      <td>28.000000</td>\n",
       "      <td>0.000000</td>\n",
       "      <td>0.000000</td>\n",
       "      <td>14.454200</td>\n",
       "    </tr>\n",
       "    <tr>\n",
       "      <th>75%</th>\n",
       "      <td>668.500000</td>\n",
       "      <td>1.000000</td>\n",
       "      <td>3.000000</td>\n",
       "      <td>38.000000</td>\n",
       "      <td>1.000000</td>\n",
       "      <td>0.000000</td>\n",
       "      <td>31.000000</td>\n",
       "    </tr>\n",
       "    <tr>\n",
       "      <th>max</th>\n",
       "      <td>891.000000</td>\n",
       "      <td>1.000000</td>\n",
       "      <td>3.000000</td>\n",
       "      <td>80.000000</td>\n",
       "      <td>8.000000</td>\n",
       "      <td>6.000000</td>\n",
       "      <td>512.329200</td>\n",
       "    </tr>\n",
       "  </tbody>\n",
       "</table>\n",
       "</div>"
      ],
      "text/plain": [
       "       PassengerId    Survived      Pclass         Age       SibSp  \\\n",
       "count   891.000000  891.000000  891.000000  714.000000  891.000000   \n",
       "mean    446.000000    0.383838    2.308642   29.699118    0.523008   \n",
       "std     257.353842    0.486592    0.836071   14.526497    1.102743   \n",
       "min       1.000000    0.000000    1.000000    0.420000    0.000000   \n",
       "25%     223.500000    0.000000    2.000000   20.125000    0.000000   \n",
       "50%     446.000000    0.000000    3.000000   28.000000    0.000000   \n",
       "75%     668.500000    1.000000    3.000000   38.000000    1.000000   \n",
       "max     891.000000    1.000000    3.000000   80.000000    8.000000   \n",
       "\n",
       "            Parch        Fare  \n",
       "count  891.000000  891.000000  \n",
       "mean     0.381594   32.204208  \n",
       "std      0.806057   49.693429  \n",
       "min      0.000000    0.000000  \n",
       "25%      0.000000    7.910400  \n",
       "50%      0.000000   14.454200  \n",
       "75%      0.000000   31.000000  \n",
       "max      6.000000  512.329200  "
      ]
     },
     "execution_count": 27,
     "metadata": {},
     "output_type": "execute_result"
    }
   ],
   "source": [
    "train.describe()"
   ]
  },
  {
   "cell_type": "code",
   "execution_count": 28,
   "id": "32e810b9",
   "metadata": {},
   "outputs": [
    {
     "name": "stdout",
     "output_type": "stream",
     "text": [
      "(418,)\n"
     ]
    }
   ],
   "source": [
    "cursor.execute('select count() from gender_submission')  \n",
    "for x in cursor:\n",
    "    print(x)"
   ]
  },
  {
   "cell_type": "code",
   "execution_count": 29,
   "id": "7e4c38fa",
   "metadata": {},
   "outputs": [
    {
     "name": "stdout",
     "output_type": "stream",
     "text": [
      "(891,)\n"
     ]
    }
   ],
   "source": [
    "cursor.execute('select count() from train')  \n",
    "for x in cursor:\n",
    "    print(x)"
   ]
  },
  {
   "cell_type": "code",
   "execution_count": 30,
   "id": "a3729f87",
   "metadata": {},
   "outputs": [
    {
     "name": "stdout",
     "output_type": "stream",
     "text": [
      "(1100,)\n"
     ]
    }
   ],
   "source": [
    "cursor.execute('select sum(Passengerid)/count() from gender_submission')  # mean \n",
    "for x in cursor:\n",
    "    print(x)"
   ]
  },
  {
   "cell_type": "code",
   "execution_count": 90,
   "id": "538609c0",
   "metadata": {},
   "outputs": [
    {
     "name": "stdout",
     "output_type": "stream",
     "text": [
      "minmimum value: 892\n"
     ]
    }
   ],
   "source": [
    "query='select min(Passengerid) from gender_submission'  # mean\n",
    "cursor.execute(query)\n",
    "result= cursor.fetchone()\n",
    "if result:\n",
    "    print(\"minmimum value:\", result[0])\n",
    "else:\n",
    "    print(\"No results found\")\n"
   ]
  },
  {
   "cell_type": "markdown",
   "id": "f5f98514",
   "metadata": {},
   "source": [
    "#                               Visulization for GENDER SUBMISSION\n",
    "## Heat Map Between Survived And Passenger\n",
    "### Correlation"
   ]
  },
  {
   "cell_type": "code",
   "execution_count": 11,
   "id": "bf7bf45b",
   "metadata": {},
   "outputs": [
    {
     "data": {
      "text/html": [
       "<div>\n",
       "<style scoped>\n",
       "    .dataframe tbody tr th:only-of-type {\n",
       "        vertical-align: middle;\n",
       "    }\n",
       "\n",
       "    .dataframe tbody tr th {\n",
       "        vertical-align: top;\n",
       "    }\n",
       "\n",
       "    .dataframe thead th {\n",
       "        text-align: right;\n",
       "    }\n",
       "</style>\n",
       "<table border=\"1\" class=\"dataframe\">\n",
       "  <thead>\n",
       "    <tr style=\"text-align: right;\">\n",
       "      <th></th>\n",
       "      <th>PassengerId</th>\n",
       "      <th>Survived</th>\n",
       "    </tr>\n",
       "  </thead>\n",
       "  <tbody>\n",
       "    <tr>\n",
       "      <th>PassengerId</th>\n",
       "      <td>1.000000</td>\n",
       "      <td>-0.023245</td>\n",
       "    </tr>\n",
       "    <tr>\n",
       "      <th>Survived</th>\n",
       "      <td>-0.023245</td>\n",
       "      <td>1.000000</td>\n",
       "    </tr>\n",
       "  </tbody>\n",
       "</table>\n",
       "</div>"
      ],
      "text/plain": [
       "             PassengerId  Survived\n",
       "PassengerId     1.000000 -0.023245\n",
       "Survived       -0.023245  1.000000"
      ]
     },
     "execution_count": 11,
     "metadata": {},
     "output_type": "execute_result"
    }
   ],
   "source": [
    "gender.corr()"
   ]
  },
  {
   "cell_type": "code",
   "execution_count": 64,
   "id": "195b7a6f",
   "metadata": {
    "scrolled": true
   },
   "outputs": [
    {
     "data": {
      "image/png": "[encoded data removed]",
      "text/plain": [
       "<Figure size 640x480 with 2 Axes>"
      ]
     },
     "metadata": {},
     "output_type": "display_data"
    }
   ],
   "source": [
    "sns.heatmap(gender.corr(),cmap=\"YlGnBu\")   #gender_submission\n",
    "plt.show()"
   ]
  },
  {
   "cell_type": "markdown",
   "id": "9216f88c",
   "metadata": {},
   "source": [
    "## how many people survived in gender submision tabel"
   ]
  },
  {
   "cell_type": "code",
   "execution_count": 24,
   "id": "e9b8bd13",
   "metadata": {},
   "outputs": [
    {
     "name": "stdout",
     "output_type": "stream",
     "text": [
      "survived , dead; (152, 266)\n"
     ]
    }
   ],
   "source": [
    "cursor.execute('select sum(Survived) survived, sum(1- Survived) as dead from gender_submission')  \n",
    "result = cursor.fetchall()\n",
    "print(\"survived , dead;\",result[0])\n",
    "for x in cursor:\n",
    "    print(x)"
   ]
  },
  {
   "cell_type": "code",
   "execution_count": 27,
   "id": "3203f2a1",
   "metadata": {},
   "outputs": [
    {
     "data": {
      "image/png": "[encoded data removed]",
      "text/plain": [
       "<Figure size 640x480 with 1 Axes>"
      ]
     },
     "metadata": {},
     "output_type": "display_data"
    }
   ],
   "source": [
    "sns.countplot(data=gender, x =\"Survived\")\n",
    "plt.title(\"Survived(1) vs Dead(0)\")\n",
    "plt.show()"
   ]
  },
  {
   "cell_type": "markdown",
   "id": "39f29017",
   "metadata": {},
   "source": [
    "# Test\n",
    "#                              Visulization for Test Table"
   ]
  },
  {
   "cell_type": "code",
   "execution_count": 28,
   "id": "afc3d682",
   "metadata": {},
   "outputs": [
    {
     "name": "stdout",
     "output_type": "stream",
     "text": [
      "<class 'pandas.core.frame.DataFrame'>\n",
      "RangeIndex: 418 entries, 0 to 417\n",
      "Data columns (total 11 columns):\n",
      " #   Column       Non-Null Count  Dtype  \n",
      "---  ------       --------------  -----  \n",
      " 0   PassengerId  418 non-null    int64  \n",
      " 1   Pclass       418 non-null    int64  \n",
      " 2   Name         418 non-null    object \n",
      " 3   Sex          418 non-null    object \n",
      " 4   Age          332 non-null    float64\n",
      " 5   SibSp        418 non-null    int64  \n",
      " 6   Parch        418 non-null    int64  \n",
      " 7   Ticket       418 non-null    object \n",
      " 8   Fare         417 non-null    float64\n",
      " 9   Cabin        91 non-null     object \n",
      " 10  Embarked     418 non-null    object \n",
      "dtypes: float64(2), int64(4), object(5)\n",
      "memory usage: 36.1+ KB\n"
     ]
    }
   ],
   "source": [
    "test.info()"
   ]
  },
  {
   "cell_type": "code",
   "execution_count": null,
   "id": "cf2d6024",
   "metadata": {},
   "outputs": [],
   "source": []
  },
  {
   "cell_type": "code",
   "execution_count": 26,
   "id": "53791c6c",
   "metadata": {},
   "outputs": [
    {
     "data": {
      "image/png": "[encoded data removed]",
      "text/plain": [
       "<Figure size 640x480 with 1 Axes>"
      ]
     },
     "metadata": {},
     "output_type": "display_data"
    }
   ],
   "source": [
    "sns.countplot(data = test , x= \"Sex\")                     \n",
    "plt.show()"
   ]
  },
  {
   "cell_type": "code",
   "execution_count": 29,
   "id": "7914852c",
   "metadata": {},
   "outputs": [
    {
     "data": {
      "image/png": "[encoded data removed]",
      "text/plain": [
       "<Figure size 640x480 with 1 Axes>"
      ]
     },
     "metadata": {},
     "output_type": "display_data"
    }
   ],
   "source": [
    "sns.countplot(data = test, x= \"Embarked\")                    \n",
    "plt.show()"
   ]
  },
  {
   "cell_type": "code",
   "execution_count": 30,
   "id": "44d394c0",
   "metadata": {},
   "outputs": [
    {
     "data": {
      "text/plain": [
       "<seaborn.axisgrid.FacetGrid at 0x248071f2c10>"
      ]
     },
     "execution_count": 30,
     "metadata": {},
     "output_type": "execute_result"
    },
    {
     "data": {
      "image/png": "[encoded data removed]",
      "text/plain": [
       "<Figure size 500x500 with 1 Axes>"
      ]
     },
     "metadata": {},
     "output_type": "display_data"
    }
   ],
   "source": [
    "sns.displot(test[\"Pclass\"])"
   ]
  },
  {
   "cell_type": "markdown",
   "id": "98bc1388",
   "metadata": {},
   "source": [
    "## Duplicate\n",
    "### Lets find out is there any duplicate if yes than delete duplicate"
   ]
  },
  {
   "cell_type": "code",
   "execution_count": 29,
   "id": "9525c2c4",
   "metadata": {},
   "outputs": [
    {
     "data": {
      "text/html": [
       "<div>\n",
       "<style scoped>\n",
       "    .dataframe tbody tr th:only-of-type {\n",
       "        vertical-align: middle;\n",
       "    }\n",
       "\n",
       "    .dataframe tbody tr th {\n",
       "        vertical-align: top;\n",
       "    }\n",
       "\n",
       "    .dataframe thead th {\n",
       "        text-align: right;\n",
       "    }\n",
       "</style>\n",
       "<table border=\"1\" class=\"dataframe\">\n",
       "  <thead>\n",
       "    <tr style=\"text-align: right;\">\n",
       "      <th></th>\n",
       "      <th>Pclass</th>\n",
       "      <th>Name</th>\n",
       "      <th>Sex</th>\n",
       "      <th>Age</th>\n",
       "      <th>SibSp</th>\n",
       "      <th>Parch</th>\n",
       "      <th>Ticket</th>\n",
       "      <th>Fare</th>\n",
       "      <th>Cabin</th>\n",
       "      <th>Embarked</th>\n",
       "      <th>COUNT(*)</th>\n",
       "    </tr>\n",
       "  </thead>\n",
       "  <tbody>\n",
       "  </tbody>\n",
       "</table>\n",
       "</div>"
      ],
      "text/plain": [
       "Empty DataFrame\n",
       "Columns: [Pclass, Name, Sex, Age, SibSp, Parch, Ticket, Fare, Cabin, Embarked, COUNT(*)]\n",
       "Index: []"
      ]
     },
     "execution_count": 29,
     "metadata": {},
     "output_type": "execute_result"
    }
   ],
   "source": [
    "pd.read_sql_query(\"SELECT Pclass,Name,Sex,Age,SibSp,Parch,Ticket,Fare,Cabin,Embarked, COUNT(*)  \\\n",
    "               FROM test \\\n",
    "                  GROUP BY Pclass,Name,Sex,Age,SibSp,Parch,Ticket,Fare,Cabin,Embarked HAVING COUNT(*)>1\",conn)                  "
   ]
  },
  {
   "cell_type": "code",
   "execution_count": 37,
   "id": "3cd2d801",
   "metadata": {},
   "outputs": [
    {
     "data": {
      "text/html": [
       "<div>\n",
       "<style scoped>\n",
       "    .dataframe tbody tr th:only-of-type {\n",
       "        vertical-align: middle;\n",
       "    }\n",
       "\n",
       "    .dataframe tbody tr th {\n",
       "        vertical-align: top;\n",
       "    }\n",
       "\n",
       "    .dataframe thead th {\n",
       "        text-align: right;\n",
       "    }\n",
       "</style>\n",
       "<table border=\"1\" class=\"dataframe\">\n",
       "  <thead>\n",
       "    <tr style=\"text-align: right;\">\n",
       "      <th></th>\n",
       "      <th>Survived</th>\n",
       "      <th>Pclass</th>\n",
       "      <th>Name</th>\n",
       "      <th>Sex</th>\n",
       "      <th>Age</th>\n",
       "      <th>SibSp</th>\n",
       "      <th>Parch</th>\n",
       "      <th>Ticket</th>\n",
       "      <th>Fare</th>\n",
       "      <th>Cabin</th>\n",
       "      <th>Embarked</th>\n",
       "      <th>COUNT(*)</th>\n",
       "    </tr>\n",
       "  </thead>\n",
       "  <tbody>\n",
       "  </tbody>\n",
       "</table>\n",
       "</div>"
      ],
      "text/plain": [
       "Empty DataFrame\n",
       "Columns: [Survived, Pclass, Name, Sex, Age, SibSp, Parch, Ticket, Fare, Cabin, Embarked, COUNT(*)]\n",
       "Index: []"
      ]
     },
     "execution_count": 37,
     "metadata": {},
     "output_type": "execute_result"
    }
   ],
   "source": [
    "pd.read_sql_query(\"SELECT Survived,Pclass,Name,Sex,Age,SibSp,Parch,Ticket,Fare,Cabin,Embarked, COUNT(*)  \\\n",
    "               FROM train \\\n",
    "                  GROUP BY Survived,Pclass,Name,Sex,Age,SibSp,Parch,Ticket,Fare,Cabin,Embarked HAVING COUNT(*)>1\",conn) "
   ]
  },
  {
   "cell_type": "markdown",
   "id": "030a0e6d",
   "metadata": {},
   "source": [
    "#### To predict whether is a particular person survived based on the information provided in the train dataset."
   ]
  },
  {
   "cell_type": "code",
   "execution_count": 39,
   "id": "6ae3719b",
   "metadata": {},
   "outputs": [
    {
     "data": {
      "text/html": [
       "<div>\n",
       "<style scoped>\n",
       "    .dataframe tbody tr th:only-of-type {\n",
       "        vertical-align: middle;\n",
       "    }\n",
       "\n",
       "    .dataframe tbody tr th {\n",
       "        vertical-align: top;\n",
       "    }\n",
       "\n",
       "    .dataframe thead th {\n",
       "        text-align: right;\n",
       "    }\n",
       "</style>\n",
       "<table border=\"1\" class=\"dataframe\">\n",
       "  <thead>\n",
       "    <tr style=\"text-align: right;\">\n",
       "      <th></th>\n",
       "      <th>PassengerId</th>\n",
       "      <th>Survived</th>\n",
       "      <th>Pclass</th>\n",
       "      <th>Name</th>\n",
       "      <th>Sex</th>\n",
       "      <th>Age</th>\n",
       "      <th>SibSp</th>\n",
       "      <th>Parch</th>\n",
       "      <th>Ticket</th>\n",
       "      <th>Fare</th>\n",
       "      <th>Cabin</th>\n",
       "      <th>Embarked</th>\n",
       "    </tr>\n",
       "  </thead>\n",
       "  <tbody>\n",
       "    <tr>\n",
       "      <th>0</th>\n",
       "      <td>1</td>\n",
       "      <td>0</td>\n",
       "      <td>3</td>\n",
       "      <td>Braund, Mr. Owen Harris</td>\n",
       "      <td>male</td>\n",
       "      <td>22.0</td>\n",
       "      <td>1</td>\n",
       "      <td>0</td>\n",
       "      <td>A/5 21171</td>\n",
       "      <td>7.2500</td>\n",
       "      <td>NaN</td>\n",
       "      <td>S</td>\n",
       "    </tr>\n",
       "    <tr>\n",
       "      <th>1</th>\n",
       "      <td>2</td>\n",
       "      <td>1</td>\n",
       "      <td>1</td>\n",
       "      <td>Cumings, Mrs. John Bradley (Florence Briggs Th...</td>\n",
       "      <td>female</td>\n",
       "      <td>38.0</td>\n",
       "      <td>1</td>\n",
       "      <td>0</td>\n",
       "      <td>PC 17599</td>\n",
       "      <td>71.2833</td>\n",
       "      <td>C85</td>\n",
       "      <td>C</td>\n",
       "    </tr>\n",
       "    <tr>\n",
       "      <th>2</th>\n",
       "      <td>3</td>\n",
       "      <td>1</td>\n",
       "      <td>3</td>\n",
       "      <td>Heikkinen, Miss. Laina</td>\n",
       "      <td>female</td>\n",
       "      <td>26.0</td>\n",
       "      <td>0</td>\n",
       "      <td>0</td>\n",
       "      <td>STON/O2. 3101282</td>\n",
       "      <td>7.9250</td>\n",
       "      <td>NaN</td>\n",
       "      <td>S</td>\n",
       "    </tr>\n",
       "    <tr>\n",
       "      <th>3</th>\n",
       "      <td>4</td>\n",
       "      <td>1</td>\n",
       "      <td>1</td>\n",
       "      <td>Futrelle, Mrs. Jacques Heath (Lily May Peel)</td>\n",
       "      <td>female</td>\n",
       "      <td>35.0</td>\n",
       "      <td>1</td>\n",
       "      <td>0</td>\n",
       "      <td>113803</td>\n",
       "      <td>53.1000</td>\n",
       "      <td>C123</td>\n",
       "      <td>S</td>\n",
       "    </tr>\n",
       "    <tr>\n",
       "      <th>4</th>\n",
       "      <td>5</td>\n",
       "      <td>0</td>\n",
       "      <td>3</td>\n",
       "      <td>Allen, Mr. William Henry</td>\n",
       "      <td>male</td>\n",
       "      <td>35.0</td>\n",
       "      <td>0</td>\n",
       "      <td>0</td>\n",
       "      <td>373450</td>\n",
       "      <td>8.0500</td>\n",
       "      <td>NaN</td>\n",
       "      <td>S</td>\n",
       "    </tr>\n",
       "  </tbody>\n",
       "</table>\n",
       "</div>"
      ],
      "text/plain": [
       "   PassengerId  Survived  Pclass  \\\n",
       "0            1         0       3   \n",
       "1            2         1       1   \n",
       "2            3         1       3   \n",
       "3            4         1       1   \n",
       "4            5         0       3   \n",
       "\n",
       "                                                Name     Sex   Age  SibSp  \\\n",
       "0                            Braund, Mr. Owen Harris    male  22.0      1   \n",
       "1  Cumings, Mrs. John Bradley (Florence Briggs Th...  female  38.0      1   \n",
       "2                             Heikkinen, Miss. Laina  female  26.0      0   \n",
       "3       Futrelle, Mrs. Jacques Heath (Lily May Peel)  female  35.0      1   \n",
       "4                           Allen, Mr. William Henry    male  35.0      0   \n",
       "\n",
       "   Parch            Ticket     Fare Cabin Embarked  \n",
       "0      0         A/5 21171   7.2500   NaN        S  \n",
       "1      0          PC 17599  71.2833   C85        C  \n",
       "2      0  STON/O2. 3101282   7.9250   NaN        S  \n",
       "3      0            113803  53.1000  C123        S  \n",
       "4      0            373450   8.0500   NaN        S  "
      ]
     },
     "execution_count": 39,
     "metadata": {},
     "output_type": "execute_result"
    }
   ],
   "source": [
    "train.head()"
   ]
  },
  {
   "cell_type": "markdown",
   "id": "fe37c3f5",
   "metadata": {},
   "source": [
    "#           Filling cabin column with '0' where cabin is NaN "
   ]
  },
  {
   "cell_type": "code",
   "execution_count": 40,
   "id": "7737f50f",
   "metadata": {},
   "outputs": [
    {
     "name": "stdout",
     "output_type": "stream",
     "text": [
      "['cabin']\n",
      "('null',)\n",
      "('null',)\n",
      "('null',)\n",
      "('null',)\n",
      "('null',)\n"
     ]
    }
   ],
   "source": [
    "cursor.execute(\"select coalesce(Cabin, 'null' ) as cabin from train where  Cabin is null limit 5\")\n",
    "result= cursor.fetchall()\n",
    "colum_name = [col[0] for col in cursor.description]\n",
    "print( colum_name)\n",
    "for x in result:\n",
    "    print(x)"
   ]
  },
  {
   "cell_type": "code",
   "execution_count": 41,
   "id": "5e2c04bd",
   "metadata": {},
   "outputs": [
    {
     "data": {
      "text/plain": [
       "<sqlite3.Cursor at 0x2bbfb9cc440>"
      ]
     },
     "execution_count": 41,
     "metadata": {},
     "output_type": "execute_result"
    }
   ],
   "source": [
    "cursor.execute(\"UPDATE train SET Cabin = coalesce(Cabin, 'null' )\" )"
   ]
  },
  {
   "cell_type": "code",
   "execution_count": 42,
   "id": "a894bd31",
   "metadata": {},
   "outputs": [
    {
     "name": "stdout",
     "output_type": "stream",
     "text": [
      "('null',)\n",
      "('C85',)\n",
      "('null',)\n",
      "('C123',)\n",
      "('null',)\n",
      "('null',)\n",
      "('E46',)\n",
      "('null',)\n",
      "('null',)\n",
      "('null',)\n"
     ]
    }
   ],
   "source": [
    "cursor.execute(\"select Cabin from train limit 10\")\n",
    "for x in cursor:\n",
    "    print(x)"
   ]
  },
  {
   "cell_type": "code",
   "execution_count": 43,
   "id": "fc86e639",
   "metadata": {},
   "outputs": [
    {
     "data": {
      "text/plain": [
       "<sqlite3.Cursor at 0x2bbfb9cc440>"
      ]
     },
     "execution_count": 43,
     "metadata": {},
     "output_type": "execute_result"
    }
   ],
   "source": [
    "cursor.execute(\"UPDATE train SET Cabin = 0 WHERE Cabin= 'null'\")\n"
   ]
  },
  {
   "cell_type": "code",
   "execution_count": 44,
   "id": "679dcd56",
   "metadata": {},
   "outputs": [
    {
     "name": "stdout",
     "output_type": "stream",
     "text": [
      "('0',)\n",
      "('C85',)\n",
      "('0',)\n",
      "('C123',)\n",
      "('0',)\n",
      "('0',)\n",
      "('E46',)\n",
      "('0',)\n",
      "('0',)\n",
      "('0',)\n"
     ]
    }
   ],
   "source": [
    "cursor.execute(\"select Cabin from train limit 10\")\n",
    "for x in cursor:\n",
    "    print(x)"
   ]
  },
  {
   "cell_type": "markdown",
   "id": "b5dfcb2b",
   "metadata": {},
   "source": [
    "# Train\n",
    "   ### lets divived train dataset into numerical and categorical "
   ]
  },
  {
   "cell_type": "code",
   "execution_count": 72,
   "id": "345e6963",
   "metadata": {},
   "outputs": [
    {
     "name": "stdout",
     "output_type": "stream",
     "text": [
      "survived , dead; (342, 549)\n"
     ]
    }
   ],
   "source": [
    "cursor.execute('select sum(Survived) survived, sum(1- Survived) as dead from gender_submission')  \n",
    "result = cursor.fetchall()\n",
    "print(\"survived , dead;\",result[0])\n",
    "for x in cursor:\n",
    "    print(x)"
   ]
  },
  {
   "cell_type": "code",
   "execution_count": null,
   "id": "27ccb76a",
   "metadata": {},
   "outputs": [],
   "source": []
  },
  {
   "cell_type": "markdown",
   "id": "e418e108",
   "metadata": {},
   "source": [
    "#### Total Survived = 342\n",
    "#### total dead= 549"
   ]
  },
  {
   "cell_type": "code",
   "execution_count": 75,
   "id": "13fe824f",
   "metadata": {},
   "outputs": [],
   "source": [
    "df_num = train[['Age','SibSp','Parch','Fare']]\n",
    "df_cat= train[['Survived','Pclass','Sex','Ticket','Cabin','Embarked']]"
   ]
  },
  {
   "cell_type": "code",
   "execution_count": 88,
   "id": "971cee86",
   "metadata": {},
   "outputs": [
    {
     "name": "stdout",
     "output_type": "stream",
     "text": [
      "['Age', 'SibSp', 'Parch', 'Fare']\n",
      "(22.0, 1, 0, 7.25)\n",
      "(38.0, 1, 0, 71.2833)\n",
      "(26.0, 0, 0, 7.925)\n",
      "(35.0, 1, 0, 53.1)\n",
      "(35.0, 0, 0, 8.05)\n"
     ]
    }
   ],
   "source": [
    "df_num =\"select  Age,SibSp,Parch,Fare from train limit 5 \"\n",
    "cursor.execute(df_num)\n",
    "result = cursor.fetchall()\n",
    "colum_name = [col[0] for col in cursor.description]\n",
    "print( colum_name)\n",
    "for x in result:\n",
    "    print(x)"
   ]
  },
  {
   "cell_type": "code",
   "execution_count": 90,
   "id": "a468274a",
   "metadata": {},
   "outputs": [
    {
     "name": "stdout",
     "output_type": "stream",
     "text": [
      "['Survived', 'Pclass', 'Sex', 'Ticket', 'Cabin', 'Embarked']\n",
      "(0, 3, 'male', 'A/5 21171', None, 'S')\n",
      "(1, 1, 'female', 'PC 17599', 'C85', 'C')\n",
      "(1, 3, 'female', 'STON/O2. 3101282', None, 'S')\n",
      "(1, 1, 'female', '113803', 'C123', 'S')\n",
      "(0, 3, 'male', '373450', None, 'S')\n"
     ]
    }
   ],
   "source": [
    "df_cat =\"select  Survived,Pclass,Sex,Ticket,Cabin,Embarked from train limit 5 \"\n",
    "cursor.execute(df_cat)\n",
    "result = cursor.fetchall()\n",
    "colum_name = [col[0] for col in cursor.description]\n",
    "print( colum_name)\n",
    "for x in result:\n",
    "    print(x)"
   ]
  },
  {
   "cell_type": "markdown",
   "id": "2d696a4a",
   "metadata": {},
   "source": [
    "# Count\n",
    "## Creating histrogram graph for each and every numerical data [Age,SibSp,Parch,Fare]"
   ]
  },
  {
   "cell_type": "code",
   "execution_count": 94,
   "id": "e0758ce9",
   "metadata": {},
   "outputs": [
    {
     "data": {
      "image/png": "[encoded data removed]",
      "text/plain": [
       "<Figure size 640x480 with 1 Axes>"
      ]
     },
     "metadata": {},
     "output_type": "display_data"
    },
    {
     "data": {
      "image/png": "[encoded data removed]",
      "text/plain": [
       "<Figure size 640x480 with 1 Axes>"
      ]
     },
     "metadata": {},
     "output_type": "display_data"
    },
    {
     "data": {
      "image/png": "[encoded data removed]",
      "text/plain": [
       "<Figure size 640x480 with 1 Axes>"
      ]
     },
     "metadata": {},
     "output_type": "display_data"
    },
    {
     "data": {
      "image/png": "[encoded data removed]",
      "text/plain": [
       "<Figure size 640x480 with 1 Axes>"
      ]
     },
     "metadata": {},
     "output_type": "display_data"
    }
   ],
   "source": [
    "for i in df_num.columns:\n",
    "    plt.hist(df_num[i])\n",
    "    plt.title(i)\n",
    "    plt.show()"
   ]
  },
  {
   "cell_type": "markdown",
   "id": "3eb07908",
   "metadata": {},
   "source": [
    "### Creating Heatmap Graph for Numeric Data"
   ]
  },
  {
   "cell_type": "code",
   "execution_count": 87,
   "id": "36f7aaca",
   "metadata": {},
   "outputs": [
    {
     "name": "stdout",
     "output_type": "stream",
     "text": [
      "            Age     SibSp     Parch      Fare\n",
      "Age    1.000000 -0.308247 -0.189119  0.096067\n",
      "SibSp -0.308247  1.000000  0.414838  0.159651\n",
      "Parch -0.189119  0.414838  1.000000  0.216225\n",
      "Fare   0.096067  0.159651  0.216225  1.000000\n"
     ]
    },
    {
     "data": {
      "text/plain": [
       "<Axes: >"
      ]
     },
     "execution_count": 87,
     "metadata": {},
     "output_type": "execute_result"
    },
    {
     "data": {
      "image/png": "[encoded data removed]",
      "text/plain": [
       "<Figure size 640x480 with 2 Axes>"
      ]
     },
     "metadata": {},
     "output_type": "display_data"
    }
   ],
   "source": [
    "print(df_num.corr())\n",
    "sns.heatmap(df_num.corr())"
   ]
  },
  {
   "cell_type": "code",
   "execution_count": null,
   "id": "c18515f3",
   "metadata": {},
   "outputs": [],
   "source": []
  },
  {
   "cell_type": "markdown",
   "id": "667bb065",
   "metadata": {},
   "source": [
    "# Count\n",
    "## Creating Bar Plot  for each and every data in  Categorical data .\n",
    "  ### Using two method\n",
    "   #### 1. By barplot\n",
    "   #### 2. By countplot      "
   ]
  },
  {
   "cell_type": "code",
   "execution_count": 78,
   "id": "6b251fb6",
   "metadata": {},
   "outputs": [
    {
     "data": {
      "image/png": "[encoded data removed]",
      "text/plain": [
       "<Figure size 640x480 with 1 Axes>"
      ]
     },
     "metadata": {},
     "output_type": "display_data"
    },
    {
     "data": {
      "image/png": "[encoded data removed]",
      "text/plain": [
       "<Figure size 640x480 with 1 Axes>"
      ]
     },
     "metadata": {},
     "output_type": "display_data"
    },
    {
     "data": {
      "image/png": "[encoded data removed]",
      "text/plain": [
       "<Figure size 640x480 with 1 Axes>"
      ]
     },
     "metadata": {},
     "output_type": "display_data"
    },
    {
     "data": {
      "image/png": "[encoded data removed]",
      "text/plain": [
       "<Figure size 640x480 with 1 Axes>"
      ]
     },
     "metadata": {},
     "output_type": "display_data"
    },
    {
     "data": {
      "image/png": "[encoded data removed]",
      "text/plain": [
       "<Figure size 640x480 with 1 Axes>"
      ]
     },
     "metadata": {},
     "output_type": "display_data"
    },
    {
     "data": {
      "image/png": "[encoded data removed]",
      "text/plain": [
       "<Figure size 640x480 with 1 Axes>"
      ]
     },
     "metadata": {},
     "output_type": "display_data"
    }
   ],
   "source": [
    "for i in df_cat.columns:\n",
    "    sns.barplot(x= df_cat[i].value_counts().index,y=df_cat[i].value_counts())\n",
    "    plt.title(i)\n",
    "    plt.show()        "
   ]
  },
  {
   "cell_type": "code",
   "execution_count": 81,
   "id": "2298a8e6",
   "metadata": {},
   "outputs": [
    {
     "data": {
      "text/plain": [
       "<Axes: xlabel='Pclass', ylabel='Density'>"
      ]
     },
     "execution_count": 81,
     "metadata": {},
     "output_type": "execute_result"
    },
    {
     "data": {
      "image/png": "[encoded data removed]",
      "text/plain": [
       "<Figure size 640x480 with 1 Axes>"
      ]
     },
     "metadata": {},
     "output_type": "display_data"
    }
   ],
   "source": [
    "sns.distplot( train['Pclass'] )"
   ]
  },
  {
   "cell_type": "markdown",
   "id": "9d629c42",
   "metadata": {},
   "source": [
    "##### the values are numerical (1, 2 and 3), but they are also categories. Because a person in 3rd class doesn't necessarily equal a passenger in 2nd class + 1st class. (This doesn't make sense dose it?)"
   ]
  },
  {
   "cell_type": "code",
   "execution_count": 89,
   "id": "2e834b01",
   "metadata": {},
   "outputs": [
    {
     "name": "stdout",
     "output_type": "stream",
     "text": [
      "Sex: female  male 0    314\n",
      "1    577\n",
      "Name: sex, dtype: int64\n"
     ]
    },
    {
     "data": {
      "text/plain": [
       "<Axes: xlabel='Sex', ylabel='count'>"
      ]
     },
     "execution_count": 89,
     "metadata": {},
     "output_type": "execute_result"
    },
    {
     "data": {
      "image/png": "[encoded data removed]",
      "text/plain": [
       "<Figure size 640x480 with 1 Axes>"
      ]
     },
     "metadata": {},
     "output_type": "display_data"
    }
   ],
   "source": [
    "result2 = pd.read_sql_query(\"select Sex,count(Sex) as sex from train group by Sex\",conn)\n",
    "plt.show()\n",
    "print(\"Sex: female  male\",result2['sex'])\n",
    "sns.countplot(data = train , x= 'Sex' )\n"
   ]
  },
  {
   "cell_type": "code",
   "execution_count": null,
   "id": "69003162",
   "metadata": {},
   "outputs": [],
   "source": []
  },
  {
   "cell_type": "code",
   "execution_count": 90,
   "id": "bc1e2c11",
   "metadata": {},
   "outputs": [
    {
     "data": {
      "text/plain": [
       "<Axes: xlabel='Embarked', ylabel='count'>"
      ]
     },
     "execution_count": 90,
     "metadata": {},
     "output_type": "execute_result"
    },
    {
     "data": {
      "image/png": "[encoded data removed]",
      "text/plain": [
       "<Figure size 640x480 with 1 Axes>"
      ]
     },
     "metadata": {},
     "output_type": "display_data"
    }
   ],
   "source": [
    "sns.countplot(data = train , x= 'Embarked' )"
   ]
  },
  {
   "cell_type": "markdown",
   "id": "21b07c4a",
   "metadata": {},
   "source": [
    "##  Compare survival rate across   Age,sibsp,parch and fare  \n",
    "### 1. by pandas \n",
    "### 2. Sql "
   ]
  },
  {
   "cell_type": "code",
   "execution_count": 94,
   "id": "13275dc3",
   "metadata": {},
   "outputs": [
    {
     "data": {
      "text/html": [
       "<div>\n",
       "<style scoped>\n",
       "    .dataframe tbody tr th:only-of-type {\n",
       "        vertical-align: middle;\n",
       "    }\n",
       "\n",
       "    .dataframe tbody tr th {\n",
       "        vertical-align: top;\n",
       "    }\n",
       "\n",
       "    .dataframe thead th {\n",
       "        text-align: right;\n",
       "    }\n",
       "</style>\n",
       "<table border=\"1\" class=\"dataframe\">\n",
       "  <thead>\n",
       "    <tr style=\"text-align: right;\">\n",
       "      <th></th>\n",
       "      <th>Age</th>\n",
       "      <th>Fare</th>\n",
       "      <th>Parch</th>\n",
       "      <th>SibSp</th>\n",
       "    </tr>\n",
       "    <tr>\n",
       "      <th>Survived</th>\n",
       "      <th></th>\n",
       "      <th></th>\n",
       "      <th></th>\n",
       "      <th></th>\n",
       "    </tr>\n",
       "  </thead>\n",
       "  <tbody>\n",
       "    <tr>\n",
       "      <th>0</th>\n",
       "      <td>30.626179</td>\n",
       "      <td>22.117887</td>\n",
       "      <td>0.329690</td>\n",
       "      <td>0.553734</td>\n",
       "    </tr>\n",
       "    <tr>\n",
       "      <th>1</th>\n",
       "      <td>28.343690</td>\n",
       "      <td>48.395408</td>\n",
       "      <td>0.464912</td>\n",
       "      <td>0.473684</td>\n",
       "    </tr>\n",
       "  </tbody>\n",
       "</table>\n",
       "</div>"
      ],
      "text/plain": [
       "                Age       Fare     Parch     SibSp\n",
       "Survived                                          \n",
       "0         30.626179  22.117887  0.329690  0.553734\n",
       "1         28.343690  48.395408  0.464912  0.473684"
      ]
     },
     "execution_count": 94,
     "metadata": {},
     "output_type": "execute_result"
    }
   ],
   "source": [
    "#compare survival rate across Age,sibsp,parch and fare\n",
    "pd.pivot_table(train,index= 'Survived',values =['Age','SibSp','Parch','Fare'])"
   ]
  },
  {
   "cell_type": "code",
   "execution_count": 92,
   "id": "8ef8df00",
   "metadata": {},
   "outputs": [
    {
     "name": "stdout",
     "output_type": "stream",
     "text": [
      "['Survived', 'Age', 'SibSp', 'Prach', 'Fare']\n",
      "(0, 30.626179, 0.553734, 0.32969, 22.117887)\n",
      "(1, 28.34369, 0.473684, 0.464912, 48.395408)\n"
     ]
    }
   ],
   "source": [
    "cursor.execute(\"select Survived, round(Avg(Age),6)Age,round(Avg(SibSp),6)SibSp,round(Avg(Parch),6)Prach,round(Avg(Fare),6)Fare  from train group by Survived\")\n",
    "result= cursor.fetchall()\n",
    "colum_name = [col[0] for col in cursor.description]\n",
    "print( colum_name)\n",
    "for x in result:\n",
    "    print(x)"
   ]
  },
  {
   "cell_type": "markdown",
   "id": "7549232a",
   "metadata": {},
   "source": [
    " ##  Compare survival rate across  Pclass,Sex,Parch,SibSp\n",
    "### SQL"
   ]
  },
  {
   "cell_type": "code",
   "execution_count": 99,
   "id": "aa537024",
   "metadata": {},
   "outputs": [
    {
     "data": {
      "text/html": [
       "<div>\n",
       "<style scoped>\n",
       "    .dataframe tbody tr th:only-of-type {\n",
       "        vertical-align: middle;\n",
       "    }\n",
       "\n",
       "    .dataframe tbody tr th {\n",
       "        vertical-align: top;\n",
       "    }\n",
       "\n",
       "    .dataframe thead th {\n",
       "        text-align: right;\n",
       "    }\n",
       "</style>\n",
       "<table border=\"1\" class=\"dataframe\">\n",
       "  <thead>\n",
       "    <tr style=\"text-align: right;\">\n",
       "      <th></th>\n",
       "      <th>Survived</th>\n",
       "      <th>Pclass</th>\n",
       "      <th>Sex</th>\n",
       "      <th>Ticket</th>\n",
       "      <th>Cabin</th>\n",
       "      <th>Embarked</th>\n",
       "    </tr>\n",
       "  </thead>\n",
       "  <tbody>\n",
       "    <tr>\n",
       "      <th>0</th>\n",
       "      <td>0</td>\n",
       "      <td>3</td>\n",
       "      <td>male</td>\n",
       "      <td>A/5 21171</td>\n",
       "      <td>NaN</td>\n",
       "      <td>S</td>\n",
       "    </tr>\n",
       "    <tr>\n",
       "      <th>1</th>\n",
       "      <td>1</td>\n",
       "      <td>1</td>\n",
       "      <td>female</td>\n",
       "      <td>PC 17599</td>\n",
       "      <td>C85</td>\n",
       "      <td>C</td>\n",
       "    </tr>\n",
       "    <tr>\n",
       "      <th>2</th>\n",
       "      <td>1</td>\n",
       "      <td>3</td>\n",
       "      <td>female</td>\n",
       "      <td>STON/O2. 3101282</td>\n",
       "      <td>NaN</td>\n",
       "      <td>S</td>\n",
       "    </tr>\n",
       "    <tr>\n",
       "      <th>3</th>\n",
       "      <td>1</td>\n",
       "      <td>1</td>\n",
       "      <td>female</td>\n",
       "      <td>113803</td>\n",
       "      <td>C123</td>\n",
       "      <td>S</td>\n",
       "    </tr>\n",
       "    <tr>\n",
       "      <th>4</th>\n",
       "      <td>0</td>\n",
       "      <td>3</td>\n",
       "      <td>male</td>\n",
       "      <td>373450</td>\n",
       "      <td>NaN</td>\n",
       "      <td>S</td>\n",
       "    </tr>\n",
       "  </tbody>\n",
       "</table>\n",
       "</div>"
      ],
      "text/plain": [
       "   Survived  Pclass     Sex            Ticket Cabin Embarked\n",
       "0         0       3    male         A/5 21171   NaN        S\n",
       "1         1       1  female          PC 17599   C85        C\n",
       "2         1       3  female  STON/O2. 3101282   NaN        S\n",
       "3         1       1  female            113803  C123        S\n",
       "4         0       3    male            373450   NaN        S"
      ]
     },
     "execution_count": 99,
     "metadata": {},
     "output_type": "execute_result"
    }
   ],
   "source": [
    "df_cat.head()"
   ]
  },
  {
   "cell_type": "markdown",
   "id": "58150e7f",
   "metadata": {},
   "source": [
    "### Pclass\n",
    "### Calculated Avg of survived  for each Pclass\n"
   ]
  },
  {
   "cell_type": "code",
   "execution_count": 95,
   "id": "789b8407",
   "metadata": {},
   "outputs": [
    {
     "name": "stdout",
     "output_type": "stream",
     "text": [
      "['Survived', 'Pclass']\n",
      "(0.62963, 1)\n",
      "(0.472826, 2)\n",
      "(0.242363, 3)\n"
     ]
    }
   ],
   "source": [
    "cursor.execute(\"select round(AVG(Survived),6)Survived, Pclass  from train  group by Pclass\")\n",
    "result= cursor.fetchall()\n",
    "colum_name = [col[0] for col in cursor.description]\n",
    "print( colum_name)\n",
    "for x in result:\n",
    "    print(x)"
   ]
  },
  {
   "cell_type": "markdown",
   "id": "93d358da",
   "metadata": {},
   "source": [
    "#### Calculated Avg of survived  for Pclass"
   ]
  },
  {
   "cell_type": "code",
   "execution_count": 53,
   "id": "0d7e1e50",
   "metadata": {},
   "outputs": [
    {
     "name": "stdout",
     "output_type": "stream",
     "text": [
      "['Pclass', 'Survived']\n",
      "(2.5318761384335153, 0)\n",
      "(1.9502923976608186, 1)\n"
     ]
    }
   ],
   "source": [
    "cursor.execute(\"select AVG(Pclass) Pclass,Survived from train  group by Survived\")\n",
    "result= cursor.fetchall()\n",
    "colum_name = [col[0] for col in cursor.description]\n",
    "print( colum_name)\n",
    "for x in result:\n",
    "    print(x)  "
   ]
  },
  {
   "cell_type": "code",
   "execution_count": 56,
   "id": "1fa6ad6a",
   "metadata": {},
   "outputs": [
    {
     "name": "stdout",
     "output_type": "stream",
     "text": [
      "['Survived', 'Pclass', 'count']\n",
      "(0, 1, 80)\n",
      "(1, 1, 136)\n",
      "(0, 2, 97)\n",
      "(1, 2, 87)\n",
      "(0, 3, 372)\n",
      "(1, 3, 119)\n"
     ]
    }
   ],
   "source": [
    "cursor.execute(\"select Survived , Pclass,count(Pclass)  as count from train group by Survived , Pclass order by Pclass\")\n",
    "result= cursor.fetchall()\n",
    "colum_name = [col[0] for col in cursor.description]\n",
    "print( colum_name)\n",
    "for x in result:\n",
    "    print(x)"
   ]
  },
  {
   "cell_type": "markdown",
   "id": "854ff226",
   "metadata": {},
   "source": [
    "## Sex[F/M]\n",
    "### Calculated Avg of survived  for female And male"
   ]
  },
  {
   "cell_type": "code",
   "execution_count": 93,
   "id": "68c5f1ef",
   "metadata": {},
   "outputs": [
    {
     "name": "stdout",
     "output_type": "stream",
     "text": [
      "['Survied', 'Sex']\n",
      "(0.7420382165605095, 'female')\n",
      "(0.18890814558058924, 'male')\n"
     ]
    }
   ],
   "source": [
    "cursor.execute(\"select AVG(Survived)Survied, Sex from train  group by Sex\")\n",
    "result= cursor.fetchall()\n",
    "colum_name = [col[0] for col in cursor.description]\n",
    "print( colum_name)\n",
    "for x in result:\n",
    "    print(x)"
   ]
  },
  {
   "cell_type": "code",
   "execution_count": null,
   "id": "ae00acbc",
   "metadata": {},
   "outputs": [],
   "source": []
  },
  {
   "cell_type": "markdown",
   "id": "e35c6c91",
   "metadata": {},
   "source": [
    "## SibSp\n",
    "  ### *Finding total  survived and dead of siblings"
   ]
  },
  {
   "cell_type": "code",
   "execution_count": 54,
   "id": "138e5923",
   "metadata": {},
   "outputs": [
    {
     "name": "stdout",
     "output_type": "stream",
     "text": [
      "['SibSp', 'Survived']\n",
      "(0.5537340619307832, 0)\n",
      "(0.47368421052631576, 1)\n"
     ]
    }
   ],
   "source": [
    "cursor.execute(\"select AVG(SibSp) SibSp,Survived from train  group by Survived\")\n",
    "result= cursor.fetchall()\n",
    "colum_name = [col[0] for col in cursor.description]\n",
    "print( colum_name)\n",
    "for x in result:\n",
    "    print(x)   "
   ]
  },
  {
   "cell_type": "markdown",
   "id": "508fc8ef",
   "metadata": {},
   "source": [
    "### *Calculated Avg of survived  for each SibSp[0,1,2,3,4,5,6]"
   ]
  },
  {
   "cell_type": "code",
   "execution_count": 104,
   "id": "67b212c6",
   "metadata": {},
   "outputs": [
    {
     "name": "stdout",
     "output_type": "stream",
     "text": [
      "['Survied', 'SibSp']\n",
      "(0.34539473684210525, 0)\n",
      "(0.5358851674641149, 1)\n",
      "(0.4642857142857143, 2)\n",
      "(0.25, 3)\n",
      "(0.16666666666666666, 4)\n",
      "(0.0, 5)\n",
      "(0.0, 8)\n"
     ]
    }
   ],
   "source": [
    "cursor.execute(\"select AVG(Survived)Survied, SibSp from train  group by SibSp\")\n",
    "result= cursor.fetchall()\n",
    "colum_name = [col[0] for col in cursor.description]\n",
    "print( colum_name)\n",
    "for x in result:\n",
    "    print(x)  "
   ]
  },
  {
   "cell_type": "markdown",
   "id": "cd403248",
   "metadata": {},
   "source": [
    "## Parch\n",
    "### Calculated Total survived and dead   for each Parch"
   ]
  },
  {
   "cell_type": "code",
   "execution_count": 52,
   "id": "2b9f04de",
   "metadata": {},
   "outputs": [
    {
     "name": "stdout",
     "output_type": "stream",
     "text": [
      "['Parch', 'Survived']\n",
      "(0.3296903460837887, 0)\n",
      "(0.4649122807017544, 1)\n"
     ]
    }
   ],
   "source": [
    "cursor.execute(\"select AVG(Parch) Parch,Survived from train  group by Survived\")\n",
    "result= cursor.fetchall()\n",
    "colum_name = [col[0] for col in cursor.description]\n",
    "print( colum_name)\n",
    "for x in result:\n",
    "    print(x)  "
   ]
  },
  {
   "cell_type": "code",
   "execution_count": 51,
   "id": "effb4b9c",
   "metadata": {},
   "outputs": [
    {
     "name": "stdout",
     "output_type": "stream",
     "text": [
      "['Survied', 'Parch']\n",
      "(0.34365781710914456, 0)\n",
      "(0.5508474576271186, 1)\n",
      "(0.5, 2)\n",
      "(0.6, 3)\n",
      "(0.0, 4)\n",
      "(0.2, 5)\n",
      "(0.0, 6)\n"
     ]
    }
   ],
   "source": [
    "cursor.execute(\"select  AVG(Survived)Survied, Parch from train group by Parch\")\n",
    "result= cursor.fetchall()\n",
    "colum_name = [col[0] for col in cursor.description]\n",
    "print( colum_name)\n",
    "for x in result:\n",
    "    print(x)"
   ]
  },
  {
   "cell_type": "markdown",
   "id": "519e11a3",
   "metadata": {},
   "source": [
    "  ### Compare survival Pclass"
   ]
  },
  {
   "cell_type": "code",
   "execution_count": 57,
   "id": "ca8082b5",
   "metadata": {},
   "outputs": [
    {
     "name": "stdout",
     "output_type": "stream",
     "text": [
      "['Survived', 'Pclass', 'count']\n",
      "(0, 1, 80)\n",
      "(1, 1, 136)\n",
      "(0, 2, 97)\n",
      "(1, 2, 87)\n",
      "(0, 3, 372)\n",
      "(1, 3, 119)\n"
     ]
    }
   ],
   "source": [
    "cursor.execute(\"select Survived , Pclass,count(Pclass)  as count from train group by Survived , Pclass order by Pclass\")\n",
    "result= cursor.fetchall()\n",
    "colum_name = [col[0] for col in cursor.description]\n",
    "print( colum_name)\n",
    "for x in result:\n",
    "    print(x)"
   ]
  },
  {
   "cell_type": "code",
   "execution_count": 107,
   "id": "1f2c4b12",
   "metadata": {},
   "outputs": [
    {
     "data": {
      "text/html": [
       "<div>\n",
       "<style scoped>\n",
       "    .dataframe tbody tr th:only-of-type {\n",
       "        vertical-align: middle;\n",
       "    }\n",
       "\n",
       "    .dataframe tbody tr th {\n",
       "        vertical-align: top;\n",
       "    }\n",
       "\n",
       "    .dataframe thead th {\n",
       "        text-align: right;\n",
       "    }\n",
       "</style>\n",
       "<table border=\"1\" class=\"dataframe\">\n",
       "  <thead>\n",
       "    <tr style=\"text-align: right;\">\n",
       "      <th></th>\n",
       "      <th>Survived</th>\n",
       "      <th>Pclass</th>\n",
       "      <th>count</th>\n",
       "    </tr>\n",
       "  </thead>\n",
       "  <tbody>\n",
       "    <tr>\n",
       "      <th>0</th>\n",
       "      <td>0</td>\n",
       "      <td>1</td>\n",
       "      <td>80</td>\n",
       "    </tr>\n",
       "    <tr>\n",
       "      <th>1</th>\n",
       "      <td>1</td>\n",
       "      <td>1</td>\n",
       "      <td>136</td>\n",
       "    </tr>\n",
       "    <tr>\n",
       "      <th>2</th>\n",
       "      <td>0</td>\n",
       "      <td>2</td>\n",
       "      <td>97</td>\n",
       "    </tr>\n",
       "    <tr>\n",
       "      <th>3</th>\n",
       "      <td>1</td>\n",
       "      <td>2</td>\n",
       "      <td>87</td>\n",
       "    </tr>\n",
       "    <tr>\n",
       "      <th>4</th>\n",
       "      <td>0</td>\n",
       "      <td>3</td>\n",
       "      <td>372</td>\n",
       "    </tr>\n",
       "    <tr>\n",
       "      <th>5</th>\n",
       "      <td>1</td>\n",
       "      <td>3</td>\n",
       "      <td>119</td>\n",
       "    </tr>\n",
       "  </tbody>\n",
       "</table>\n",
       "</div>"
      ],
      "text/plain": [
       "   Survived  Pclass  count\n",
       "0         0       1     80\n",
       "1         1       1    136\n",
       "2         0       2     97\n",
       "3         1       2     87\n",
       "4         0       3    372\n",
       "5         1       3    119"
      ]
     },
     "execution_count": 107,
     "metadata": {},
     "output_type": "execute_result"
    }
   ],
   "source": [
    "pd.read_sql_query(\"select Survived , Pclass,count(Pclass) as count  from train group by Survived , Pclass order by Pclass\",conn)"
   ]
  },
  {
   "cell_type": "markdown",
   "id": "34712d5d",
   "metadata": {},
   "source": [
    "   ### Compare survival sex"
   ]
  },
  {
   "cell_type": "code",
   "execution_count": 108,
   "id": "f00b51af",
   "metadata": {},
   "outputs": [
    {
     "data": {
      "text/html": [
       "<div>\n",
       "<style scoped>\n",
       "    .dataframe tbody tr th:only-of-type {\n",
       "        vertical-align: middle;\n",
       "    }\n",
       "\n",
       "    .dataframe tbody tr th {\n",
       "        vertical-align: top;\n",
       "    }\n",
       "\n",
       "    .dataframe thead th {\n",
       "        text-align: right;\n",
       "    }\n",
       "</style>\n",
       "<table border=\"1\" class=\"dataframe\">\n",
       "  <thead>\n",
       "    <tr style=\"text-align: right;\">\n",
       "      <th></th>\n",
       "      <th>Survived</th>\n",
       "      <th>Sex</th>\n",
       "      <th>count</th>\n",
       "    </tr>\n",
       "  </thead>\n",
       "  <tbody>\n",
       "    <tr>\n",
       "      <th>0</th>\n",
       "      <td>0</td>\n",
       "      <td>female</td>\n",
       "      <td>81</td>\n",
       "    </tr>\n",
       "    <tr>\n",
       "      <th>1</th>\n",
       "      <td>1</td>\n",
       "      <td>female</td>\n",
       "      <td>233</td>\n",
       "    </tr>\n",
       "    <tr>\n",
       "      <th>2</th>\n",
       "      <td>0</td>\n",
       "      <td>male</td>\n",
       "      <td>468</td>\n",
       "    </tr>\n",
       "    <tr>\n",
       "      <th>3</th>\n",
       "      <td>1</td>\n",
       "      <td>male</td>\n",
       "      <td>109</td>\n",
       "    </tr>\n",
       "  </tbody>\n",
       "</table>\n",
       "</div>"
      ],
      "text/plain": [
       "   Survived     Sex  count\n",
       "0         0  female     81\n",
       "1         1  female    233\n",
       "2         0    male    468\n",
       "3         1    male    109"
      ]
     },
     "execution_count": 108,
     "metadata": {},
     "output_type": "execute_result"
    }
   ],
   "source": [
    "pd.read_sql_query(\"select Survived,Sex,count(Sex) as count  from train group by Survived , Sex order by Sex\",conn)"
   ]
  },
  {
   "cell_type": "code",
   "execution_count": 109,
   "id": "2c2a83e3",
   "metadata": {},
   "outputs": [
    {
     "data": {
      "text/html": [
       "<div>\n",
       "<style scoped>\n",
       "    .dataframe tbody tr th:only-of-type {\n",
       "        vertical-align: middle;\n",
       "    }\n",
       "\n",
       "    .dataframe tbody tr th {\n",
       "        vertical-align: top;\n",
       "    }\n",
       "\n",
       "    .dataframe thead th {\n",
       "        text-align: right;\n",
       "    }\n",
       "</style>\n",
       "<table border=\"1\" class=\"dataframe\">\n",
       "  <thead>\n",
       "    <tr style=\"text-align: right;\">\n",
       "      <th></th>\n",
       "      <th>Survived</th>\n",
       "      <th>Embarked</th>\n",
       "      <th>count</th>\n",
       "    </tr>\n",
       "  </thead>\n",
       "  <tbody>\n",
       "    <tr>\n",
       "      <th>0</th>\n",
       "      <td>0</td>\n",
       "      <td>C</td>\n",
       "      <td>75</td>\n",
       "    </tr>\n",
       "    <tr>\n",
       "      <th>1</th>\n",
       "      <td>1</td>\n",
       "      <td>C</td>\n",
       "      <td>93</td>\n",
       "    </tr>\n",
       "    <tr>\n",
       "      <th>2</th>\n",
       "      <td>0</td>\n",
       "      <td>Q</td>\n",
       "      <td>47</td>\n",
       "    </tr>\n",
       "    <tr>\n",
       "      <th>3</th>\n",
       "      <td>1</td>\n",
       "      <td>Q</td>\n",
       "      <td>30</td>\n",
       "    </tr>\n",
       "    <tr>\n",
       "      <th>4</th>\n",
       "      <td>0</td>\n",
       "      <td>S</td>\n",
       "      <td>427</td>\n",
       "    </tr>\n",
       "    <tr>\n",
       "      <th>5</th>\n",
       "      <td>1</td>\n",
       "      <td>S</td>\n",
       "      <td>217</td>\n",
       "    </tr>\n",
       "  </tbody>\n",
       "</table>\n",
       "</div>"
      ],
      "text/plain": [
       "   Survived Embarked  count\n",
       "0         0        C     75\n",
       "1         1        C     93\n",
       "2         0        Q     47\n",
       "3         1        Q     30\n",
       "4         0        S    427\n",
       "5         1        S    217"
      ]
     },
     "execution_count": 109,
     "metadata": {},
     "output_type": "execute_result"
    }
   ],
   "source": [
    "pd.read_sql_query(\"select Survived,Embarked,count(Embarked) as count  from train  where Embarked is not null \\\n",
    "                  group by Survived ,Embarked order by Embarked\",conn)"
   ]
  },
  {
   "cell_type": "markdown",
   "id": "99d98380",
   "metadata": {},
   "source": [
    "## Cabin \n",
    "### Cabin- Simplify cabins(evaluated if cabin letter(cabin_adv) or the  purchase of tickets across multiple cabin (cabin_multiple) impacted survival        "
   ]
  },
  {
   "cell_type": "code",
   "execution_count": 132,
   "id": "cbb51175",
   "metadata": {},
   "outputs": [
    {
     "data": {
      "text/html": [
       "<div>\n",
       "<style scoped>\n",
       "    .dataframe tbody tr th:only-of-type {\n",
       "        vertical-align: middle;\n",
       "    }\n",
       "\n",
       "    .dataframe tbody tr th {\n",
       "        vertical-align: top;\n",
       "    }\n",
       "\n",
       "    .dataframe thead th {\n",
       "        text-align: right;\n",
       "    }\n",
       "</style>\n",
       "<table border=\"1\" class=\"dataframe\">\n",
       "  <thead>\n",
       "    <tr style=\"text-align: right;\">\n",
       "      <th></th>\n",
       "      <th>cabin_multiple</th>\n",
       "    </tr>\n",
       "  </thead>\n",
       "  <tbody>\n",
       "    <tr>\n",
       "      <th>0</th>\n",
       "      <td>0</td>\n",
       "    </tr>\n",
       "    <tr>\n",
       "      <th>1</th>\n",
       "      <td>1</td>\n",
       "    </tr>\n",
       "    <tr>\n",
       "      <th>2</th>\n",
       "      <td>2</td>\n",
       "    </tr>\n",
       "    <tr>\n",
       "      <th>3</th>\n",
       "      <td>4</td>\n",
       "    </tr>\n",
       "    <tr>\n",
       "      <th>4</th>\n",
       "      <td>3</td>\n",
       "    </tr>\n",
       "  </tbody>\n",
       "</table>\n",
       "</div>"
      ],
      "text/plain": [
       "   cabin_multiple\n",
       "0               0\n",
       "1               1\n",
       "2               2\n",
       "3               4\n",
       "4               3"
      ]
     },
     "execution_count": 132,
     "metadata": {},
     "output_type": "execute_result"
    }
   ],
   "source": [
    "cabin_multiple=pd.read_sql_query(\"select distinct(count(Cabin))as cabin_multiple from train group by Cabin\",conn)\n",
    "cabin_multiple"
   ]
  },
  {
   "cell_type": "code",
   "execution_count": 133,
   "id": "55b9871c",
   "metadata": {},
   "outputs": [
    {
     "data": {
      "text/html": [
       "<div>\n",
       "<style scoped>\n",
       "    .dataframe tbody tr th:only-of-type {\n",
       "        vertical-align: middle;\n",
       "    }\n",
       "\n",
       "    .dataframe tbody tr th {\n",
       "        vertical-align: top;\n",
       "    }\n",
       "\n",
       "    .dataframe thead th {\n",
       "        text-align: right;\n",
       "    }\n",
       "</style>\n",
       "<table border=\"1\" class=\"dataframe\">\n",
       "  <thead>\n",
       "    <tr style=\"text-align: right;\">\n",
       "      <th></th>\n",
       "      <th>Survived</th>\n",
       "      <th>cabin_multiple</th>\n",
       "      <th>count(Ticket)</th>\n",
       "    </tr>\n",
       "  </thead>\n",
       "  <tbody>\n",
       "    <tr>\n",
       "      <th>0</th>\n",
       "      <td>0</td>\n",
       "      <td>0</td>\n",
       "      <td>1</td>\n",
       "    </tr>\n",
       "    <tr>\n",
       "      <th>1</th>\n",
       "      <td>0</td>\n",
       "      <td>1</td>\n",
       "      <td>41</td>\n",
       "    </tr>\n",
       "    <tr>\n",
       "      <th>2</th>\n",
       "      <td>0</td>\n",
       "      <td>2</td>\n",
       "      <td>8</td>\n",
       "    </tr>\n",
       "    <tr>\n",
       "      <th>3</th>\n",
       "      <td>0</td>\n",
       "      <td>3</td>\n",
       "      <td>3</td>\n",
       "    </tr>\n",
       "    <tr>\n",
       "      <th>4</th>\n",
       "      <td>0</td>\n",
       "      <td>4</td>\n",
       "      <td>1</td>\n",
       "    </tr>\n",
       "    <tr>\n",
       "      <th>5</th>\n",
       "      <td>1</td>\n",
       "      <td>1</td>\n",
       "      <td>49</td>\n",
       "    </tr>\n",
       "    <tr>\n",
       "      <th>6</th>\n",
       "      <td>1</td>\n",
       "      <td>2</td>\n",
       "      <td>30</td>\n",
       "    </tr>\n",
       "    <tr>\n",
       "      <th>7</th>\n",
       "      <td>1</td>\n",
       "      <td>3</td>\n",
       "      <td>2</td>\n",
       "    </tr>\n",
       "    <tr>\n",
       "      <th>8</th>\n",
       "      <td>1</td>\n",
       "      <td>4</td>\n",
       "      <td>2</td>\n",
       "    </tr>\n",
       "  </tbody>\n",
       "</table>\n",
       "</div>"
      ],
      "text/plain": [
       "   Survived  cabin_multiple  count(Ticket)\n",
       "0         0               0              1\n",
       "1         0               1             41\n",
       "2         0               2              8\n",
       "3         0               3              3\n",
       "4         0               4              1\n",
       "5         1               1             49\n",
       "6         1               2             30\n",
       "7         1               3              2\n",
       "8         1               4              2"
      ]
     },
     "execution_count": 133,
     "metadata": {},
     "output_type": "execute_result"
    }
   ],
   "source": [
    "pd.read_sql_query(\"select Survived,Cabin_multiple,count(Ticket) from (select distinct(count(Cabin))as cabin_multiple,Survived,Ticket  from train group by Cabin)  group by Survived,cabin_multiple \",conn)"
   ]
  },
  {
   "cell_type": "code",
   "execution_count": 58,
   "id": "269c0a5a",
   "metadata": {},
   "outputs": [
    {
     "name": "stdout",
     "output_type": "stream",
     "text": [
      "('0',)\n",
      "('C85',)\n",
      "('0',)\n",
      "('C123',)\n",
      "('0',)\n"
     ]
    }
   ],
   "source": [
    "cursor.execute(\"select  Cabin from train limit 5\")\n",
    "for x in cursor:\n",
    "      print(x)"
   ]
  },
  {
   "cell_type": "code",
   "execution_count": 59,
   "id": "21319e58",
   "metadata": {},
   "outputs": [
    {
     "data": {
      "text/plain": [
       "Cabin\n",
       "0    687\n",
       "1    180\n",
       "2     16\n",
       "3      6\n",
       "4      2\n",
       "Name: count, dtype: int64"
      ]
     },
     "execution_count": 59,
     "metadata": {},
     "output_type": "execute_result"
    }
   ],
   "source": [
    "multiple_cabin = train.Cabin.apply(lambda x: 0 if pd.isna(x) else len(x.split (' ')))\n",
    "multiple_cabin.value_counts()"
   ]
  },
  {
   "cell_type": "code",
   "execution_count": 60,
   "id": "5633bb20",
   "metadata": {},
   "outputs": [
    {
     "data": {
      "text/plain": [
       "Cabin\n",
       "n    687\n",
       "C     59\n",
       "B     47\n",
       "D     33\n",
       "E     32\n",
       "A     15\n",
       "F     13\n",
       "G      4\n",
       "T      1\n",
       "Name: count, dtype: int64"
      ]
     },
     "execution_count": 60,
     "metadata": {},
     "output_type": "execute_result"
    }
   ],
   "source": [
    "cabin_letter = train.Cabin.apply(lambda x:str(x)[0])\n",
    "cabin_letter.value_counts()"
   ]
  },
  {
   "cell_type": "markdown",
   "id": "906b2ff0",
   "metadata": {},
   "source": [
    "## Ticket "
   ]
  },
  {
   "cell_type": "code",
   "execution_count": 61,
   "id": "af092880",
   "metadata": {},
   "outputs": [
    {
     "data": {
      "text/plain": [
       "0    0\n",
       "1    0\n",
       "2    0\n",
       "3    1\n",
       "4    1\n",
       "Name: Ticket, dtype: int64"
      ]
     },
     "execution_count": 61,
     "metadata": {},
     "output_type": "execute_result"
    }
   ],
   "source": [
    "numeric_ticket= train.Ticket.apply(lambda x: 1 if x.isnumeric() else 0)\n",
    "numeric_ticket.head(5)"
   ]
  },
  {
   "cell_type": "code",
   "execution_count": 62,
   "id": "c2a2fb99",
   "metadata": {},
   "outputs": [
    {
     "data": {
      "text/plain": [
       "0        a5\n",
       "1        pc\n",
       "2    stono2\n",
       "3         0\n",
       "4         0\n",
       "Name: Ticket, dtype: object"
      ]
     },
     "execution_count": 62,
     "metadata": {},
     "output_type": "execute_result"
    }
   ],
   "source": [
    "letter_ticket=train.Ticket.apply(lambda x:''.join(x.split(' ')[:-1]).replace('.','').replace\n",
    "                   ('/','').lower() if len(x.split(' ')[:-1])> 0 else 0)\n",
    "letter_ticket.head(5)"
   ]
  },
  {
   "cell_type": "code",
   "execution_count": 63,
   "id": "9dd61dfa",
   "metadata": {},
   "outputs": [
    {
     "data": {
      "text/plain": [
       "Ticket\n",
       "0            665\n",
       "pc            60\n",
       "ca            41\n",
       "a5            21\n",
       "stono2        18\n",
       "sotonoq       15\n",
       "scparis       11\n",
       "wc            10\n",
       "a4             7\n",
       "soc            6\n",
       "fcc            5\n",
       "c              5\n",
       "sopp           3\n",
       "pp             3\n",
       "wep            3\n",
       "ppp            2\n",
       "scah           2\n",
       "sotono2        2\n",
       "swpp           2\n",
       "fc             1\n",
       "scahbasle      1\n",
       "as             1\n",
       "sp             1\n",
       "sc             1\n",
       "scow           1\n",
       "fa             1\n",
       "sop            1\n",
       "sca4           1\n",
       "casoton        1\n",
       "Name: count, dtype: int64"
      ]
     },
     "execution_count": 63,
     "metadata": {},
     "output_type": "execute_result"
    }
   ],
   "source": [
    "letter_ticket.value_counts()"
   ]
  },
  {
   "cell_type": "code",
   "execution_count": 64,
   "id": "c656a1c3",
   "metadata": {},
   "outputs": [
    {
     "data": {
      "text/plain": [
       "Ticket\n",
       "1    661\n",
       "0    230\n",
       "Name: count, dtype: int64"
      ]
     },
     "execution_count": 64,
     "metadata": {},
     "output_type": "execute_result"
    }
   ],
   "source": [
    "numeric_ticket.value_counts()         "
   ]
  },
  {
   "cell_type": "code",
   "execution_count": 65,
   "id": "a726c633",
   "metadata": {},
   "outputs": [
    {
     "name": "stdout",
     "output_type": "stream",
     "text": [
      "('A/5 21171', 0)\n",
      "('PC 17599', 0)\n",
      "('STON/O2. 3101282', 0)\n",
      "('113803', 1)\n",
      "('373450', 1)\n"
     ]
    }
   ],
   "source": [
    "cursor.execute(\"\"\"\n",
    "    SELECT Ticket, \n",
    "           CASE \n",
    "               WHEN Ticket GLOB '[0-9]*' THEN 1\n",
    "               ELSE 0\n",
    "           END AS numeric_ticket\n",
    "    FROM train limit 5;\n",
    "\"\"\")\n",
    "result = cursor.fetchall()\n",
    "for row in result:\n",
    "    print(row)"
   ]
  },
  {
   "cell_type": "markdown",
   "id": "a8ea288e",
   "metadata": {},
   "source": [
    "# Survivors and non-survivors by sex\n",
    "### Createing a SQL Query to retrieve Data And Execute the query and fetch the results\n"
   ]
  },
  {
   "cell_type": "markdown",
   "id": "4af87171",
   "metadata": {},
   "source": [
    "# Survived"
   ]
  },
  {
   "cell_type": "code",
   "execution_count": 77,
   "id": "8fc2e0e7",
   "metadata": {},
   "outputs": [
    {
     "data": {
      "image/png": "[encoded data removed]",
      "text/plain": [
       "<Figure size 1000x500 with 1 Axes>"
      ]
     },
     "metadata": {},
     "output_type": "display_data"
    },
    {
     "name": "stdout",
     "output_type": "stream",
     "text": [
      "survived; 0      0\n",
      "1    342\n",
      "Name: survived, dtype: int64\n",
      "dead; 0    549\n",
      "1      0\n",
      "Name: dead, dtype: int64\n"
     ]
    }
   ],
   "source": [
    "result2 = pd.read_sql_query(\"select Survived,sum(Survived) survived,sum(1-survived) dead from train group by Survived\",conn)\n",
    "result2.set_index(\"Survived\").plot(kind='bar',stacked = True,figsize=(10,5))\n",
    "plt.show()\n",
    "print(\"survived;\",result2['survived'])\n",
    "print(\"dead;\",result2['dead'])"
   ]
  },
  {
   "cell_type": "markdown",
   "id": "af707709",
   "metadata": {},
   "source": [
    "# Sex\n",
    "## *Plot the data And Print the counts of survivors and non-survivors by sex"
   ]
  },
  {
   "cell_type": "code",
   "execution_count": 70,
   "id": "66950d1e",
   "metadata": {},
   "outputs": [
    {
     "data": {
      "image/png": "[encoded data removed]",
      "text/plain": [
       "<Figure size 1000x500 with 1 Axes>"
      ]
     },
     "metadata": {},
     "output_type": "display_data"
    },
    {
     "name": "stdout",
     "output_type": "stream",
     "text": [
      "Survived:\n",
      " 0    233\n",
      "1    109\n",
      "Name: Survived, dtype: int64\n",
      "Dead:\n",
      " 0     81\n",
      "1    468\n",
      "Name: Dead, dtype: int64\n"
     ]
    }
   ],
   "source": [
    "query = '''\n",
    "    SELECT Sex, SUM(Survived) AS Survived, SUM(1 - Survived) AS Dead\n",
    "    FROM train\n",
    "    GROUP BY Sex\n",
    "'''\n",
    "results = pd.read_sql_query(query, conn)\n",
    "\n",
    "# Plot the data\n",
    "results.set_index('Sex').plot(kind='bar', stacked=True, figsize=(10, 5))\n",
    "plt.show()\n",
    "\n",
    "# Print the counts of survivors and non-survivors by sex\n",
    "print(\"Survived:\\n\", results['Survived'])\n",
    "print(\"Dead:\\n\", results['Dead'])\n"
   ]
  },
  {
   "cell_type": "markdown",
   "id": "efb259a5",
   "metadata": {},
   "source": [
    "### **In above Graph its clearly shows that number of survival of female are  more than men."
   ]
  },
  {
   "cell_type": "markdown",
   "id": "159da41d",
   "metadata": {},
   "source": [
    "# Embarked\n",
    "## Survivors and non-survivors by Embarked \n",
    "### 1. Createing a SQL Query to retrieve Data And Execute the query and fetch the results. \n",
    "### 2. Plot Bar graph of  the data And Print the counts of survivors and non-survivors by Embarked."
   ]
  },
  {
   "cell_type": "code",
   "execution_count": 91,
   "id": "9a76bd38",
   "metadata": {},
   "outputs": [
    {
     "data": {
      "image/png": "[encoded data removed]",
      "text/plain": [
       "<Figure size 1000x500 with 1 Axes>"
      ]
     },
     "metadata": {},
     "output_type": "display_data"
    },
    {
     "name": "stdout",
     "output_type": "stream",
     "text": [
      "Survived: 0     93\n",
      "1     30\n",
      "2    217\n",
      "Name: survived, dtype: int64\n",
      "dead: 0     75\n",
      "1     47\n",
      "2    427\n",
      "Name: dead, dtype: int64\n"
     ]
    }
   ],
   "source": [
    "query= 'select Embarked,sum(Survived) survived ,sum(1-survived) dead  from train where Embarked is not null group by Embarked '\n",
    "results = pd.read_sql_query(query,conn)\n",
    "results.set_index(\"Embarked\").plot(kind = 'bar',stacked = True,figsize= (10,5))\n",
    "plt.show()\n",
    "print('Survived:',results['survived'])\n",
    "print('dead:',results['dead'])"
   ]
  },
  {
   "cell_type": "markdown",
   "id": "21bf2046",
   "metadata": {},
   "source": [
    "   ### In above graph\n",
    "   #### The Chart confirms a person aboarded from C slightly more likely survived.\n",
    "   #### The Chart confirms a person aboarded from Q more likely dead.\n",
    "   #### The Chart confirms a person aboarded from S more likely dead."
   ]
  },
  {
   "cell_type": "markdown",
   "id": "17365b7e",
   "metadata": {},
   "source": [
    "# Age"
   ]
  },
  {
   "cell_type": "markdown",
   "id": "888776b5",
   "metadata": {},
   "source": [
    "# Survivors and non-survivors by Age\n",
    "#### 1. Createing a SQL Query to retrieve Data And Execute the query and fetch the results. \n",
    "#### 2. Plot histogram  graph of  the data And Print the counts of survivors and non-survivors by Age."
   ]
  },
  {
   "cell_type": "code",
   "execution_count": 86,
   "id": "31e298df",
   "metadata": {},
   "outputs": [
    {
     "data": {
      "image/png": "[encoded data removed]",
      "text/plain": [
       "<Figure size 1000x500 with 1 Axes>"
      ]
     },
     "metadata": {},
     "output_type": "display_data"
    },
    {
     "name": "stdout",
     "output_type": "stream",
     "text": [
      "Age: 0     52\n",
      "1      1\n",
      "2      1\n",
      "3      2\n",
      "4      2\n",
      "      ..\n",
      "84     0\n",
      "85     0\n",
      "86     0\n",
      "87     0\n",
      "88     1\n",
      "Name: survived, Length: 89, dtype: int64\n"
     ]
    }
   ],
   "source": [
    "result1=pd.read_sql_query('select Age,sum(Survived) survived  from train  group by Age',conn)\n",
    "result1.set_index('Age').plot(kind=\"hist\",stacked =True,figsize = (10,5))\n",
    "plt.show()\n",
    "print(\"Age:\",result1['survived'])"
   ]
  },
  {
   "cell_type": "code",
   "execution_count": 90,
   "id": "8d19adcd",
   "metadata": {},
   "outputs": [
    {
     "data": {
      "image/png": "[encoded data removed]",
      "text/plain": [
       "<Figure size 1000x500 with 1 Axes>"
      ]
     },
     "metadata": {},
     "output_type": "display_data"
    },
    {
     "name": "stdout",
     "output_type": "stream",
     "text": [
      "Age: 0     125\n",
      "1       0\n",
      "2       0\n",
      "3       0\n",
      "4       0\n",
      "     ... \n",
      "84      2\n",
      "85      1\n",
      "86      2\n",
      "87      1\n",
      "88      0\n",
      "Name: Dead, Length: 89, dtype: int64\n"
     ]
    }
   ],
   "source": [
    "result1=pd.read_sql_query('select Age,sum(1-Survived) Dead from train  group by Age',conn)\n",
    "result1.set_index('Age').plot(kind=\"hist\",stacked =True,figsize = (10,5))\n",
    "plt.title(\"Age\")\n",
    "plt.show()\n",
    "print(\"Age:\",result1['Dead'])"
   ]
  },
  {
   "cell_type": "markdown",
   "id": "088f6575",
   "metadata": {},
   "source": [
    "# Age\n",
    "## Survivors and non-survivors by Pclass\n",
    "#### 1. Createing a SQL Query to retrieve Data And Execute the query and fetch the results. \n",
    "#### 2. Plot bar  graph of  the data And Print the counts of survivors and non-survivors by Pclass."
   ]
  },
  {
   "cell_type": "code",
   "execution_count": 84,
   "id": "ad79dea1",
   "metadata": {},
   "outputs": [
    {
     "data": {
      "image/png": "[encoded data removed]",
      "text/plain": [
       "<Figure size 1000x500 with 1 Axes>"
      ]
     },
     "metadata": {},
     "output_type": "display_data"
    },
    {
     "name": "stdout",
     "output_type": "stream",
     "text": [
      "Survived: 0    134\n",
      "1     87\n",
      "2    119\n",
      "Name: survived, dtype: int64\n",
      "dead: 0     80\n",
      "1     97\n",
      "2    372\n",
      "Name: dead, dtype: int64\n"
     ]
    }
   ],
   "source": [
    "query= 'select Pclass,sum(Survived) survived ,sum(1-survived) dead  from train where Embarked is not null group by Pclass '\n",
    "results = pd.read_sql_query(query,conn)\n",
    "results.set_index(\"Pclass\").plot(kind = 'bar',stacked = True,figsize= (10,5))\n",
    "plt.show()\n",
    "print('Survived:',results['survived'])\n",
    "print('dead:',results['dead'])"
   ]
  },
  {
   "cell_type": "markdown",
   "id": "80678aa1",
   "metadata": {},
   "source": [
    "  ### it clearly show at above graph that pclass 3 has more dead as capmare to other pclass  and pclass 1 has more survived as compare to other"
   ]
  },
  {
   "cell_type": "markdown",
   "id": "ef5116b5",
   "metadata": {},
   "source": [
    "# SibSp\n",
    "## Survivors and non-survivors by SibSp\n",
    "#### 1. Createing a SQL Query to retrieve Data And Execute the query and fetch the results. \n",
    "#### 2. Plot histogram  graph of  the data And Print the counts of survivors and non-survivors by SibSp."
   ]
  },
  {
   "cell_type": "code",
   "execution_count": 97,
   "id": "07d6a9a9",
   "metadata": {},
   "outputs": [
    {
     "data": {
      "image/png": "[encoded data removed]",
      "text/plain": [
       "<Figure size 1000x500 with 1 Axes>"
      ]
     },
     "metadata": {},
     "output_type": "display_data"
    },
    {
     "name": "stdout",
     "output_type": "stream",
     "text": [
      "survived; 0    210\n",
      "1    112\n",
      "2     13\n",
      "3      4\n",
      "4      3\n",
      "5      0\n",
      "6      0\n",
      "Name: survived, dtype: int64\n",
      "dead; 0    398\n",
      "1     97\n",
      "2     15\n",
      "3     12\n",
      "4     15\n",
      "5      5\n",
      "6      7\n",
      "Name: dead, dtype: int64\n"
     ]
    }
   ],
   "source": [
    "result2 = pd.read_sql_query(\"select SibSp,sum(Survived) survived,sum(1-survived) dead from train group by SibSp\",conn)\n",
    "result2.set_index(\"SibSp\").plot(kind='bar',stacked = True,figsize=(10,5))\n",
    "plt.show()\n",
    "print(\"survived;\",result2['survived'])\n",
    "print(\"dead;\",result2['dead'])"
   ]
  },
  {
   "cell_type": "markdown",
   "id": "b6402df2",
   "metadata": {},
   "source": [
    "  #### this confirms that a person aboarded with more than 2 siblings or spouse more likely survived.\n",
    "  #### The Chart confirms a person aboarded without siblings or spouse more likely dead"
   ]
  },
  {
   "cell_type": "markdown",
   "id": "bb1a98b7",
   "metadata": {},
   "source": [
    "## Parch\n",
    "# Survivors and non-survivors by Parch\n",
    "#### 1. Createing a SQL Query to retrieve Data And Execute the query and fetch the results. \n",
    "#### 2. Plot histogram  graph of  the data And Print the counts of survivors and non-survivors by Parch."
   ]
  },
  {
   "cell_type": "code",
   "execution_count": 98,
   "id": "a5d3a699",
   "metadata": {},
   "outputs": [
    {
     "data": {
      "image/png": "[encoded data removed]",
      "text/plain": [
       "<Figure size 1000x500 with 1 Axes>"
      ]
     },
     "metadata": {},
     "output_type": "display_data"
    },
    {
     "name": "stdout",
     "output_type": "stream",
     "text": [
      "survived; 0    233\n",
      "1     65\n",
      "2     40\n",
      "3      3\n",
      "4      0\n",
      "5      1\n",
      "6      0\n",
      "Name: survived, dtype: int64\n",
      "dead; 0    445\n",
      "1     53\n",
      "2     40\n",
      "3      2\n",
      "4      4\n",
      "5      4\n",
      "6      1\n",
      "Name: dead, dtype: int64\n"
     ]
    }
   ],
   "source": [
    "result2 = pd.read_sql_query(\"select Parch,sum(Survived) survived,sum(1-survived) dead from train group by Parch\",conn)\n",
    "result2.set_index(\"Parch\").plot(kind='bar',stacked = True,figsize=(10,5))\n",
    "plt.show()\n",
    "print(\"survived;\",result2['survived'])\n",
    "print(\"dead;\",result2['dead'])"
   ]
  },
  {
   "cell_type": "markdown",
   "id": "63ebdca5",
   "metadata": {},
   "source": [
    " #### The Chart confirms a person aboarded with more than 2 parents or children more likely survived.\n",
    " #### The Chart confirms a person aboarded alone more likely dead"
   ]
  },
  {
   "cell_type": "markdown",
   "id": "f3fe28e9",
   "metadata": {},
   "source": [
    "## Creating new Table Train_Dis and train_con for  Machine Learning models"
   ]
  },
  {
   "cell_type": "code",
   "execution_count": null,
   "id": "5b56753c",
   "metadata": {
    "scrolled": true
   },
   "outputs": [],
   "source": []
  },
  {
   "cell_type": "code",
   "execution_count": null,
   "id": "425151c1",
   "metadata": {},
   "outputs": [],
   "source": []
  },
  {
   "cell_type": "code",
   "execution_count": null,
   "id": "402c6ea9",
   "metadata": {},
   "outputs": [],
   "source": []
  },
  {
   "cell_type": "code",
   "execution_count": null,
   "id": "c790168e",
   "metadata": {},
   "outputs": [],
   "source": []
  },
  {
   "cell_type": "markdown",
   "id": "6a298fe5",
   "metadata": {},
   "source": [
    "## Creating train_dis table which contain only discreate values"
   ]
  },
  {
   "cell_type": "markdown",
   "id": "62e31438",
   "metadata": {},
   "source": [
    "### using sql"
   ]
  },
  {
   "cell_type": "code",
   "execution_count": 165,
   "id": "832cde2d",
   "metadata": {},
   "outputs": [
    {
     "data": {
      "text/plain": [
       "<sqlite3.Cursor at 0x2bb838430c0>"
      ]
     },
     "execution_count": 165,
     "metadata": {},
     "output_type": "execute_result"
    }
   ],
   "source": [
    "# Define the name of the new table\n",
    "new_table_name = 'train_dis'\n",
    "\n",
    "# Create a new table with the same structure as the 'train' table\n",
    "create_table_query = '''\n",
    "CREATE TABLE {new_table} AS\n",
    "SELECT Survived,Pclass,Sex,SibSp,Parch,Fare, Embarked FROM train\n",
    "'''\n",
    "# Execute the query to create the new table\n",
    "conn.execute(create_table_query.format(new_table=new_table_name))\n"
   ]
  },
  {
   "cell_type": "code",
   "execution_count": 163,
   "id": "eec4d71e",
   "metadata": {},
   "outputs": [],
   "source": [
    "cursor.execute(\"drop table train_dis \")\n",
    "for x in cursor:\n",
    "    print(x)"
   ]
  },
  {
   "cell_type": "code",
   "execution_count": 345,
   "id": "4dbf03be",
   "metadata": {},
   "outputs": [
    {
     "name": "stdout",
     "output_type": "stream",
     "text": [
      "('gender_submission',)\n",
      "('test',)\n",
      "('train',)\n",
      "('train_dis',)\n"
     ]
    }
   ],
   "source": [
    "cursor.execute(\"select name from sqlite_master where type='table' \")\n",
    "for x in cursor:\n",
    "    print(x)"
   ]
  },
  {
   "cell_type": "code",
   "execution_count": 167,
   "id": "a45b74ea",
   "metadata": {},
   "outputs": [
    {
     "name": "stdout",
     "output_type": "stream",
     "text": [
      "['Survived', 'Pclass', 'Sex', 'SibSp', 'Parch', 'Fare', 'Embarked']\n",
      "(0, 3, 'male', 1, 0, 7.25, 'S')\n",
      "(1, 1, 'female', 1, 0, 71.2833, 'C')\n",
      "(1, 3, 'female', 0, 0, 7.925, 'S')\n",
      "(1, 1, 'female', 1, 0, 53.1, 'S')\n",
      "(0, 3, 'male', 0, 0, 8.05, 'S')\n"
     ]
    }
   ],
   "source": [
    "cursor.execute(\" select * from  train_dis limit 5\")\n",
    "column_nm = [col[0] for col in cursor.description]\n",
    "print(column_nm)\n",
    "for x in cursor:\n",
    "    print(x)"
   ]
  },
  {
   "cell_type": "code",
   "execution_count": 347,
   "id": "d532b563",
   "metadata": {},
   "outputs": [],
   "source": [
    "cursor.execute(\"update train_dis set Sex = 0 where Sex = 'male' \")\n",
    "for x in cursor:\n",
    "    print(x)"
   ]
  },
  {
   "cell_type": "code",
   "execution_count": 348,
   "id": "e6134184",
   "metadata": {},
   "outputs": [],
   "source": [
    "cursor.execute(\"update train_dis set Sex = 1 where Sex = 'female' \")\n",
    "for x in cursor:\n",
    "    print(x)"
   ]
  },
  {
   "cell_type": "code",
   "execution_count": 349,
   "id": "b22dc1b7",
   "metadata": {},
   "outputs": [
    {
     "name": "stdout",
     "output_type": "stream",
     "text": [
      "['Survived', 'Pclass', 'Sex', 'SibSp', 'Parch', 'Fare', 'Embarked']\n",
      "(0, 3, '0', 1, 0, 7.25, 'S')\n",
      "(1, 1, '1', 1, 0, 71.2833, 'C')\n",
      "(1, 3, '1', 0, 0, 7.925, 'S')\n",
      "(1, 1, '1', 1, 0, 53.1, 'S')\n",
      "(0, 3, '0', 0, 0, 8.05, 'S')\n"
     ]
    }
   ],
   "source": [
    "cursor.execute(\" select * from  train_dis limit 5\")\n",
    "column_nm = [col[0] for col in cursor.description]\n",
    "print(column_nm)\n",
    "for x in cursor:\n",
    "    print(x)"
   ]
  },
  {
   "cell_type": "code",
   "execution_count": 352,
   "id": "83a72080",
   "metadata": {},
   "outputs": [
    {
     "data": {
      "text/html": [
       "<div>\n",
       "<style scoped>\n",
       "    .dataframe tbody tr th:only-of-type {\n",
       "        vertical-align: middle;\n",
       "    }\n",
       "\n",
       "    .dataframe tbody tr th {\n",
       "        vertical-align: top;\n",
       "    }\n",
       "\n",
       "    .dataframe thead th {\n",
       "        text-align: right;\n",
       "    }\n",
       "</style>\n",
       "<table border=\"1\" class=\"dataframe\">\n",
       "  <thead>\n",
       "    <tr style=\"text-align: right;\">\n",
       "      <th></th>\n",
       "      <th>Fare</th>\n",
       "      <th>NTILE(4) OVER (ORDER BY Fare)</th>\n",
       "    </tr>\n",
       "  </thead>\n",
       "  <tbody>\n",
       "    <tr>\n",
       "      <th>0</th>\n",
       "      <td>1.0</td>\n",
       "      <td>1</td>\n",
       "    </tr>\n",
       "    <tr>\n",
       "      <th>1</th>\n",
       "      <td>1.0</td>\n",
       "      <td>1</td>\n",
       "    </tr>\n",
       "    <tr>\n",
       "      <th>2</th>\n",
       "      <td>1.0</td>\n",
       "      <td>1</td>\n",
       "    </tr>\n",
       "    <tr>\n",
       "      <th>3</th>\n",
       "      <td>1.0</td>\n",
       "      <td>1</td>\n",
       "    </tr>\n",
       "    <tr>\n",
       "      <th>4</th>\n",
       "      <td>1.0</td>\n",
       "      <td>1</td>\n",
       "    </tr>\n",
       "  </tbody>\n",
       "</table>\n",
       "</div>"
      ],
      "text/plain": [
       "   Fare  NTILE(4) OVER (ORDER BY Fare)\n",
       "0   1.0                              1\n",
       "1   1.0                              1\n",
       "2   1.0                              1\n",
       "3   1.0                              1\n",
       "4   1.0                              1"
      ]
     },
     "execution_count": 352,
     "metadata": {},
     "output_type": "execute_result"
    }
   ],
   "source": [
    "pd.read_sql_query(\"select Fare, NTILE(4) OVER (ORDER BY Fare) from train limit 5\",conn)"
   ]
  },
  {
   "cell_type": "markdown",
   "id": "56741a68",
   "metadata": {},
   "source": [
    "### Using  Python"
   ]
  },
  {
   "cell_type": "code",
   "execution_count": 353,
   "id": "7985b425",
   "metadata": {},
   "outputs": [],
   "source": [
    "df_dis = pd.DataFrame() #For discretised continuous variables \n",
    "df_con = pd.DataFrame() #For continuous variables "
   ]
  },
  {
   "cell_type": "markdown",
   "id": "4f531f5c",
   "metadata": {},
   "source": [
    "### We usually consider features with a datatype of object as categorical features. And those with float or int could be numerical features."
   ]
  },
  {
   "cell_type": "code",
   "execution_count": 355,
   "id": "bae41abc",
   "metadata": {},
   "outputs": [],
   "source": [
    "df_dis[\"Survived\"]= train[\"Survived\"]\n",
    "df_con['Survived'] = train['Survived']"
   ]
  },
  {
   "cell_type": "code",
   "execution_count": 359,
   "id": "ae82a1a9",
   "metadata": {},
   "outputs": [
    {
     "name": "stdout",
     "output_type": "stream",
     "text": [
      "df_dis\n",
      "      Survived\n",
      "0           0\n",
      "1           1\n",
      "2           1\n",
      "3           1\n",
      "4           0\n",
      "..        ...\n",
      "886         0\n",
      "887         1\n",
      "888         0\n",
      "889         1\n",
      "890         0\n",
      "\n",
      "[891 rows x 1 columns]\n",
      "df_con\n",
      "      Survived\n",
      "0           0\n",
      "1           1\n",
      "2           1\n",
      "3           1\n",
      "4           0\n",
      "..        ...\n",
      "886         0\n",
      "887         1\n",
      "888         0\n",
      "889         1\n",
      "890         0\n",
      "\n",
      "[891 rows x 1 columns]\n"
     ]
    }
   ],
   "source": [
    "print(\"df_dis\\n\", df_dis)\n",
    "print(\"df_con\\n\", df_con)"
   ]
  },
  {
   "cell_type": "code",
   "execution_count": 360,
   "id": "4a37a52a",
   "metadata": {},
   "outputs": [],
   "source": [
    "df_dis['Pclass'] = train['Pclass']\n",
    "df_con['Pclass'] = train['Pclass']"
   ]
  },
  {
   "cell_type": "code",
   "execution_count": 361,
   "id": "f05b51a3",
   "metadata": {},
   "outputs": [
    {
     "name": "stdout",
     "output_type": "stream",
     "text": [
      "df_dis \n",
      "    Survived  Pclass\n",
      "0         0       3\n",
      "1         1       1\n",
      "2         1       3\n",
      "3         1       1\n",
      "4         0       3\n",
      "\n",
      "\n",
      "df_con \n",
      "    Survived  Pclass\n",
      "0         0       3\n",
      "1         1       1\n",
      "2         1       3\n",
      "3         1       1\n",
      "4         0       3\n"
     ]
    }
   ],
   "source": [
    "print('df_dis \\n',df_dis.head())\n",
    "print('')\n",
    "print('')\n",
    "print('df_con \\n',df_con.head())"
   ]
  },
  {
   "cell_type": "markdown",
   "id": "c624ab22",
   "metadata": {},
   "source": [
    "### Since our Fare is a float, let's add it to our continuous subset dataframe. But to add to the categorical subset dataframe we will be cutting it to bins."
   ]
  },
  {
   "cell_type": "code",
   "execution_count": 435,
   "id": "69645f0f",
   "metadata": {},
   "outputs": [],
   "source": [
    "# Add Fare to our sbset dataframes\n",
    "df_con['Fare'] = train['Fare']                  # --> Continuous\n",
    "\n",
    "df_dis['Fare'] = pd.cut(train['Fare'], bins= 4)  # --> Discretised"
   ]
  },
  {
   "cell_type": "code",
   "execution_count": 436,
   "id": "a8732eb6",
   "metadata": {},
   "outputs": [
    {
     "name": "stdout",
     "output_type": "stream",
     "text": [
      "df_dis \n",
      "    Survived  Pclass  Sex  SibSp  Parch               Fare Embarked\n",
      "0         0       3    0      1      0  (-0.512, 128.082]        S\n",
      "1         1       1    1      1      0  (-0.512, 128.082]        C\n",
      "2         1       3    1      0      0  (-0.512, 128.082]        S\n",
      "3         1       1    1      1      0  (-0.512, 128.082]        S\n",
      "4         0       3    0      0      0  (-0.512, 128.082]        S\n",
      "df_con \n",
      "    Survived  Pclass  Sex  SibSp  Parch     Fare Embarked\n",
      "0         0       3    0      1      0   7.2500        S\n",
      "1         1       1    1      1      0  71.2833        C\n",
      "2         1       3    1      0      0   7.9250        S\n",
      "3         1       1    1      1      0  53.1000        S\n",
      "4         0       3    0      0      0   8.0500        S\n"
     ]
    }
   ],
   "source": [
    "print(\"df_dis \\n\", df_dis.head())\n",
    "print(\"df_con \\n\", df_con.head())"
   ]
  },
  {
   "cell_type": "code",
   "execution_count": 373,
   "id": "ff6c29a6",
   "metadata": {},
   "outputs": [],
   "source": [
    "df_dis[\"Sex\"] =train[\"Sex\"]\n",
    "df_dis['Sex'] = np.where(df_dis['Sex'] == 'female',1,0)\n",
    "df_con[\"Sex\"] = train[\"Sex\"]\n",
    "df_con['Sex'] = np.where(df_con['Sex'] == 'female',1,0)"
   ]
  },
  {
   "cell_type": "code",
   "execution_count": 375,
   "id": "f37af779",
   "metadata": {},
   "outputs": [
    {
     "name": "stdout",
     "output_type": "stream",
     "text": [
      "df_dis \n",
      "    Survived  Pclass  Sex  SibSp  Parch               Fare\n",
      "0         0       3    0      1      0  (-0.512, 128.082]\n",
      "1         1       1    1      1      0  (-0.512, 128.082]\n",
      "2         1       3    1      0      0  (-0.512, 128.082]\n",
      "3         1       1    1      1      0  (-0.512, 128.082]\n",
      "4         0       3    0      0      0  (-0.512, 128.082]\n",
      "\n",
      "\n",
      "df_con \n",
      "    Survived  Pclass  Sex  SibSp  Parch     Fare\n",
      "0         0       3    0      1      0   7.2500\n",
      "1         1       1    1      1      0  71.2833\n",
      "2         1       3    1      0      0   7.9250\n",
      "3         1       1    1      1      0  53.1000\n",
      "4         0       3    0      0      0   8.0500\n"
     ]
    }
   ],
   "source": [
    "print('df_dis \\n',df_dis.head())\n",
    "print('')\n",
    "print('')\n",
    "print('df_con \\n',df_con.head())"
   ]
  },
  {
   "cell_type": "code",
   "execution_count": 365,
   "id": "6c707c5d",
   "metadata": {},
   "outputs": [],
   "source": [
    "# Add SibSp to our sbset dataframes\n",
    "df_dis['SibSp'] = train['SibSp']\n",
    "df_con['SibSp'] = train['SibSp']"
   ]
  },
  {
   "cell_type": "code",
   "execution_count": 378,
   "id": "d9ebb293",
   "metadata": {},
   "outputs": [
    {
     "name": "stdout",
     "output_type": "stream",
     "text": [
      "df_dis \n",
      "    Survived  Pclass  Sex  SibSp  Parch               Fare\n",
      "0         0       3    0      1      0  (-0.512, 128.082]\n",
      "1         1       1    1      1      0  (-0.512, 128.082]\n",
      "2         1       3    1      0      0  (-0.512, 128.082]\n",
      "3         1       1    1      1      0  (-0.512, 128.082]\n",
      "4         0       3    0      0      0  (-0.512, 128.082]\n",
      "\n",
      "\n",
      "df_con \n",
      "    Survived  Pclass  Sex  SibSp  Parch     Fare\n",
      "0         0       3    0      1      0   7.2500\n",
      "1         1       1    1      1      0  71.2833\n",
      "2         1       3    1      0      0   7.9250\n",
      "3         1       1    1      1      0  53.1000\n",
      "4         0       3    0      0      0   8.0500\n"
     ]
    }
   ],
   "source": [
    "print('df_dis \\n',df_dis.head())\n",
    "print('')\n",
    "print('')\n",
    "print('df_con \\n',df_con.head())"
   ]
  },
  {
   "cell_type": "code",
   "execution_count": 367,
   "id": "b548da7e",
   "metadata": {},
   "outputs": [],
   "source": [
    "# Add Parch to our sbset dataframes\n",
    "df_dis['Parch'] = train['Parch']\n",
    "df_con['Parch'] = train['Parch']"
   ]
  },
  {
   "cell_type": "code",
   "execution_count": 377,
   "id": "11b3f00f",
   "metadata": {},
   "outputs": [
    {
     "name": "stdout",
     "output_type": "stream",
     "text": [
      "df_dis \n",
      "    Survived  Pclass  Sex  SibSp  Parch               Fare\n",
      "0         0       3    0      1      0  (-0.512, 128.082]\n",
      "1         1       1    1      1      0  (-0.512, 128.082]\n",
      "2         1       3    1      0      0  (-0.512, 128.082]\n",
      "3         1       1    1      1      0  (-0.512, 128.082]\n",
      "4         0       3    0      0      0  (-0.512, 128.082]\n",
      "\n",
      "\n",
      "df_con \n",
      "    Survived  Pclass  Sex  SibSp  Parch     Fare\n",
      "0         0       3    0      1      0   7.2500\n",
      "1         1       1    1      1      0  71.2833\n",
      "2         1       3    1      0      0   7.9250\n",
      "3         1       1    1      1      0  53.1000\n",
      "4         0       3    0      0      0   8.0500\n"
     ]
    }
   ],
   "source": [
    "print('df_dis \\n',df_dis.head())\n",
    "print('')\n",
    "print('')\n",
    "print('df_con \\n',df_con.head())"
   ]
  },
  {
   "cell_type": "code",
   "execution_count": 384,
   "id": "e77556ec",
   "metadata": {},
   "outputs": [],
   "source": [
    "# Add embarked to the sub dataframes\n",
    "df_con['Embarked'] = train['Embarked']\n",
    "df_dis['Embarked'] = train['Embarked'] "
   ]
  },
  {
   "cell_type": "code",
   "execution_count": 387,
   "id": "160b374e",
   "metadata": {},
   "outputs": [],
   "source": [
    "# Remove the missing values.\n",
    "df_con.dropna(subset= ['Embarked'],inplace= True)\n",
    "df_dis.dropna(subset= ['Embarked'],inplace= True)"
   ]
  },
  {
   "cell_type": "code",
   "execution_count": 388,
   "id": "d825ac4c",
   "metadata": {},
   "outputs": [
    {
     "name": "stdout",
     "output_type": "stream",
     "text": [
      "df_dis \n",
      "    Survived  Pclass  Sex  SibSp  Parch               Fare Embarked\n",
      "0         0       3    0      1      0  (-0.512, 128.082]        S\n",
      "1         1       1    1      1      0  (-0.512, 128.082]        C\n",
      "2         1       3    1      0      0  (-0.512, 128.082]        S\n",
      "3         1       1    1      1      0  (-0.512, 128.082]        S\n",
      "4         0       3    0      0      0  (-0.512, 128.082]        S\n",
      "df_con \n",
      "    Survived  Pclass  Sex  SibSp  Parch     Fare Embarked\n",
      "0         0       3    0      1      0   7.2500        S\n",
      "1         1       1    1      1      0  71.2833        C\n",
      "2         1       3    1      0      0   7.9250        S\n",
      "3         1       1    1      1      0  53.1000        S\n",
      "4         0       3    0      0      0   8.0500        S\n"
     ]
    }
   ],
   "source": [
    "print(\"df_dis \\n\", df_dis.head())\n",
    "print(\"df_con \\n\", df_con.head())"
   ]
  },
  {
   "cell_type": "markdown",
   "id": "da508820",
   "metadata": {},
   "source": [
    "### Discreate dataframe\n",
    "#### One Hot Encoded df_dis variables"
   ]
  },
  {
   "cell_type": "code",
   "execution_count": 396,
   "id": "c43ed37c",
   "metadata": {},
   "outputs": [
    {
     "data": {
      "text/html": [
       "<div>\n",
       "<style scoped>\n",
       "    .dataframe tbody tr th:only-of-type {\n",
       "        vertical-align: middle;\n",
       "    }\n",
       "\n",
       "    .dataframe tbody tr th {\n",
       "        vertical-align: top;\n",
       "    }\n",
       "\n",
       "    .dataframe thead th {\n",
       "        text-align: right;\n",
       "    }\n",
       "</style>\n",
       "<table border=\"1\" class=\"dataframe\">\n",
       "  <thead>\n",
       "    <tr style=\"text-align: right;\">\n",
       "      <th></th>\n",
       "      <th>Survived</th>\n",
       "      <th>Pclass_1</th>\n",
       "      <th>Pclass_2</th>\n",
       "      <th>Pclass_3</th>\n",
       "      <th>Sex_0</th>\n",
       "      <th>Sex_1</th>\n",
       "      <th>SibSp_0</th>\n",
       "      <th>SibSp_1</th>\n",
       "      <th>SibSp_2</th>\n",
       "      <th>SibSp_3</th>\n",
       "      <th>...</th>\n",
       "      <th>Parch_4</th>\n",
       "      <th>Parch_5</th>\n",
       "      <th>Parch_6</th>\n",
       "      <th>Fare_(-0.512, 128.082]</th>\n",
       "      <th>Fare_(128.082, 256.165]</th>\n",
       "      <th>Fare_(256.165, 384.247]</th>\n",
       "      <th>Fare_(384.247, 512.329]</th>\n",
       "      <th>Embarked_C</th>\n",
       "      <th>Embarked_Q</th>\n",
       "      <th>Embarked_S</th>\n",
       "    </tr>\n",
       "  </thead>\n",
       "  <tbody>\n",
       "    <tr>\n",
       "      <th>0</th>\n",
       "      <td>0</td>\n",
       "      <td>0</td>\n",
       "      <td>0</td>\n",
       "      <td>1</td>\n",
       "      <td>1</td>\n",
       "      <td>0</td>\n",
       "      <td>0</td>\n",
       "      <td>1</td>\n",
       "      <td>0</td>\n",
       "      <td>0</td>\n",
       "      <td>...</td>\n",
       "      <td>0</td>\n",
       "      <td>0</td>\n",
       "      <td>0</td>\n",
       "      <td>1</td>\n",
       "      <td>0</td>\n",
       "      <td>0</td>\n",
       "      <td>0</td>\n",
       "      <td>0</td>\n",
       "      <td>0</td>\n",
       "      <td>1</td>\n",
       "    </tr>\n",
       "    <tr>\n",
       "      <th>1</th>\n",
       "      <td>1</td>\n",
       "      <td>1</td>\n",
       "      <td>0</td>\n",
       "      <td>0</td>\n",
       "      <td>0</td>\n",
       "      <td>1</td>\n",
       "      <td>0</td>\n",
       "      <td>1</td>\n",
       "      <td>0</td>\n",
       "      <td>0</td>\n",
       "      <td>...</td>\n",
       "      <td>0</td>\n",
       "      <td>0</td>\n",
       "      <td>0</td>\n",
       "      <td>1</td>\n",
       "      <td>0</td>\n",
       "      <td>0</td>\n",
       "      <td>0</td>\n",
       "      <td>1</td>\n",
       "      <td>0</td>\n",
       "      <td>0</td>\n",
       "    </tr>\n",
       "    <tr>\n",
       "      <th>2</th>\n",
       "      <td>1</td>\n",
       "      <td>0</td>\n",
       "      <td>0</td>\n",
       "      <td>1</td>\n",
       "      <td>0</td>\n",
       "      <td>1</td>\n",
       "      <td>1</td>\n",
       "      <td>0</td>\n",
       "      <td>0</td>\n",
       "      <td>0</td>\n",
       "      <td>...</td>\n",
       "      <td>0</td>\n",
       "      <td>0</td>\n",
       "      <td>0</td>\n",
       "      <td>1</td>\n",
       "      <td>0</td>\n",
       "      <td>0</td>\n",
       "      <td>0</td>\n",
       "      <td>0</td>\n",
       "      <td>0</td>\n",
       "      <td>1</td>\n",
       "    </tr>\n",
       "    <tr>\n",
       "      <th>3</th>\n",
       "      <td>1</td>\n",
       "      <td>1</td>\n",
       "      <td>0</td>\n",
       "      <td>0</td>\n",
       "      <td>0</td>\n",
       "      <td>1</td>\n",
       "      <td>0</td>\n",
       "      <td>1</td>\n",
       "      <td>0</td>\n",
       "      <td>0</td>\n",
       "      <td>...</td>\n",
       "      <td>0</td>\n",
       "      <td>0</td>\n",
       "      <td>0</td>\n",
       "      <td>1</td>\n",
       "      <td>0</td>\n",
       "      <td>0</td>\n",
       "      <td>0</td>\n",
       "      <td>0</td>\n",
       "      <td>0</td>\n",
       "      <td>1</td>\n",
       "    </tr>\n",
       "    <tr>\n",
       "      <th>4</th>\n",
       "      <td>0</td>\n",
       "      <td>0</td>\n",
       "      <td>0</td>\n",
       "      <td>1</td>\n",
       "      <td>1</td>\n",
       "      <td>0</td>\n",
       "      <td>1</td>\n",
       "      <td>0</td>\n",
       "      <td>0</td>\n",
       "      <td>0</td>\n",
       "      <td>...</td>\n",
       "      <td>0</td>\n",
       "      <td>0</td>\n",
       "      <td>0</td>\n",
       "      <td>1</td>\n",
       "      <td>0</td>\n",
       "      <td>0</td>\n",
       "      <td>0</td>\n",
       "      <td>0</td>\n",
       "      <td>0</td>\n",
       "      <td>1</td>\n",
       "    </tr>\n",
       "  </tbody>\n",
       "</table>\n",
       "<p>5 rows × 27 columns</p>\n",
       "</div>"
      ],
      "text/plain": [
       "   Survived  Pclass_1  Pclass_2  Pclass_3  Sex_0  Sex_1  SibSp_0  SibSp_1  \\\n",
       "0         0         0         0         1      1      0        0        1   \n",
       "1         1         1         0         0      0      1        0        1   \n",
       "2         1         0         0         1      0      1        1        0   \n",
       "3         1         1         0         0      0      1        0        1   \n",
       "4         0         0         0         1      1      0        1        0   \n",
       "\n",
       "   SibSp_2  SibSp_3  ...  Parch_4  Parch_5  Parch_6  Fare_(-0.512, 128.082]  \\\n",
       "0        0        0  ...        0        0        0                       1   \n",
       "1        0        0  ...        0        0        0                       1   \n",
       "2        0        0  ...        0        0        0                       1   \n",
       "3        0        0  ...        0        0        0                       1   \n",
       "4        0        0  ...        0        0        0                       1   \n",
       "\n",
       "   Fare_(128.082, 256.165]  Fare_(256.165, 384.247]  Fare_(384.247, 512.329]  \\\n",
       "0                        0                        0                        0   \n",
       "1                        0                        0                        0   \n",
       "2                        0                        0                        0   \n",
       "3                        0                        0                        0   \n",
       "4                        0                        0                        0   \n",
       "\n",
       "   Embarked_C  Embarked_Q  Embarked_S  \n",
       "0           0           0           1  \n",
       "1           1           0           0  \n",
       "2           0           0           1  \n",
       "3           0           0           1  \n",
       "4           0           0           1  \n",
       "\n",
       "[5 rows x 27 columns]"
      ]
     },
     "execution_count": 396,
     "metadata": {},
     "output_type": "execute_result"
    }
   ],
   "source": [
    "# One Hot Encoded df_dis variables\n",
    "one_hot_cols = df_dis.columns.tolist()\n",
    "one_hot_cols.remove('Survived')                             # --> Here we remove Survived because we dont need encode this.\n",
    "df_dis_enc = pd.get_dummies(df_dis, columns= one_hot_cols)\n",
    "\n",
    "df_dis_enc.head().astype(int)"
   ]
  },
  {
   "cell_type": "markdown",
   "id": "0d61a362",
   "metadata": {},
   "source": [
    "### Continous Dataframe"
   ]
  },
  {
   "cell_type": "code",
   "execution_count": 397,
   "id": "d5bba382",
   "metadata": {},
   "outputs": [
    {
     "data": {
      "text/html": [
       "<div>\n",
       "<style scoped>\n",
       "    .dataframe tbody tr th:only-of-type {\n",
       "        vertical-align: middle;\n",
       "    }\n",
       "\n",
       "    .dataframe tbody tr th {\n",
       "        vertical-align: top;\n",
       "    }\n",
       "\n",
       "    .dataframe thead th {\n",
       "        text-align: right;\n",
       "    }\n",
       "</style>\n",
       "<table border=\"1\" class=\"dataframe\">\n",
       "  <thead>\n",
       "    <tr style=\"text-align: right;\">\n",
       "      <th></th>\n",
       "      <th>Survived</th>\n",
       "      <th>Pclass</th>\n",
       "      <th>Sex</th>\n",
       "      <th>SibSp</th>\n",
       "      <th>Parch</th>\n",
       "      <th>Fare</th>\n",
       "      <th>Embarked</th>\n",
       "    </tr>\n",
       "  </thead>\n",
       "  <tbody>\n",
       "    <tr>\n",
       "      <th>0</th>\n",
       "      <td>0</td>\n",
       "      <td>3</td>\n",
       "      <td>0</td>\n",
       "      <td>1</td>\n",
       "      <td>0</td>\n",
       "      <td>7.2500</td>\n",
       "      <td>S</td>\n",
       "    </tr>\n",
       "    <tr>\n",
       "      <th>1</th>\n",
       "      <td>1</td>\n",
       "      <td>1</td>\n",
       "      <td>1</td>\n",
       "      <td>1</td>\n",
       "      <td>0</td>\n",
       "      <td>71.2833</td>\n",
       "      <td>C</td>\n",
       "    </tr>\n",
       "    <tr>\n",
       "      <th>2</th>\n",
       "      <td>1</td>\n",
       "      <td>3</td>\n",
       "      <td>1</td>\n",
       "      <td>0</td>\n",
       "      <td>0</td>\n",
       "      <td>7.9250</td>\n",
       "      <td>S</td>\n",
       "    </tr>\n",
       "    <tr>\n",
       "      <th>3</th>\n",
       "      <td>1</td>\n",
       "      <td>1</td>\n",
       "      <td>1</td>\n",
       "      <td>1</td>\n",
       "      <td>0</td>\n",
       "      <td>53.1000</td>\n",
       "      <td>S</td>\n",
       "    </tr>\n",
       "    <tr>\n",
       "      <th>4</th>\n",
       "      <td>0</td>\n",
       "      <td>3</td>\n",
       "      <td>0</td>\n",
       "      <td>0</td>\n",
       "      <td>0</td>\n",
       "      <td>8.0500</td>\n",
       "      <td>S</td>\n",
       "    </tr>\n",
       "  </tbody>\n",
       "</table>\n",
       "</div>"
      ],
      "text/plain": [
       "   Survived  Pclass  Sex  SibSp  Parch     Fare Embarked\n",
       "0         0       3    0      1      0   7.2500        S\n",
       "1         1       1    1      1      0  71.2833        C\n",
       "2         1       3    1      0      0   7.9250        S\n",
       "3         1       1    1      1      0  53.1000        S\n",
       "4         0       3    0      0      0   8.0500        S"
      ]
     },
     "execution_count": 397,
     "metadata": {},
     "output_type": "execute_result"
    }
   ],
   "source": [
    "df_con.head()"
   ]
  },
  {
   "cell_type": "code",
   "execution_count": 399,
   "id": "56c61186",
   "metadata": {},
   "outputs": [],
   "source": [
    "from sklearn.preprocessing import LabelEncoder\n",
    "\n",
    "# Label Encoded using LabelEncoder()\n",
    "label_encoder = LabelEncoder()"
   ]
  },
  {
   "cell_type": "code",
   "execution_count": 400,
   "id": "9226723a",
   "metadata": {},
   "outputs": [
    {
     "data": {
      "text/html": [
       "<div>\n",
       "<style scoped>\n",
       "    .dataframe tbody tr th:only-of-type {\n",
       "        vertical-align: middle;\n",
       "    }\n",
       "\n",
       "    .dataframe tbody tr th {\n",
       "        vertical-align: top;\n",
       "    }\n",
       "\n",
       "    .dataframe thead th {\n",
       "        text-align: right;\n",
       "    }\n",
       "</style>\n",
       "<table border=\"1\" class=\"dataframe\">\n",
       "  <thead>\n",
       "    <tr style=\"text-align: right;\">\n",
       "      <th></th>\n",
       "      <th>Survived</th>\n",
       "      <th>Pclass</th>\n",
       "      <th>Sex</th>\n",
       "      <th>SibSp</th>\n",
       "      <th>Parch</th>\n",
       "      <th>Fare</th>\n",
       "      <th>Embarked</th>\n",
       "    </tr>\n",
       "  </thead>\n",
       "  <tbody>\n",
       "    <tr>\n",
       "      <th>0</th>\n",
       "      <td>0</td>\n",
       "      <td>2</td>\n",
       "      <td>0</td>\n",
       "      <td>1</td>\n",
       "      <td>0</td>\n",
       "      <td>18</td>\n",
       "      <td>2</td>\n",
       "    </tr>\n",
       "    <tr>\n",
       "      <th>1</th>\n",
       "      <td>1</td>\n",
       "      <td>0</td>\n",
       "      <td>1</td>\n",
       "      <td>1</td>\n",
       "      <td>0</td>\n",
       "      <td>207</td>\n",
       "      <td>0</td>\n",
       "    </tr>\n",
       "    <tr>\n",
       "      <th>2</th>\n",
       "      <td>1</td>\n",
       "      <td>2</td>\n",
       "      <td>1</td>\n",
       "      <td>0</td>\n",
       "      <td>0</td>\n",
       "      <td>41</td>\n",
       "      <td>2</td>\n",
       "    </tr>\n",
       "    <tr>\n",
       "      <th>3</th>\n",
       "      <td>1</td>\n",
       "      <td>0</td>\n",
       "      <td>1</td>\n",
       "      <td>1</td>\n",
       "      <td>0</td>\n",
       "      <td>189</td>\n",
       "      <td>2</td>\n",
       "    </tr>\n",
       "    <tr>\n",
       "      <th>4</th>\n",
       "      <td>0</td>\n",
       "      <td>2</td>\n",
       "      <td>0</td>\n",
       "      <td>0</td>\n",
       "      <td>0</td>\n",
       "      <td>43</td>\n",
       "      <td>2</td>\n",
       "    </tr>\n",
       "    <tr>\n",
       "      <th>5</th>\n",
       "      <td>0</td>\n",
       "      <td>2</td>\n",
       "      <td>0</td>\n",
       "      <td>0</td>\n",
       "      <td>0</td>\n",
       "      <td>51</td>\n",
       "      <td>1</td>\n",
       "    </tr>\n",
       "    <tr>\n",
       "      <th>6</th>\n",
       "      <td>0</td>\n",
       "      <td>0</td>\n",
       "      <td>0</td>\n",
       "      <td>0</td>\n",
       "      <td>0</td>\n",
       "      <td>186</td>\n",
       "      <td>2</td>\n",
       "    </tr>\n",
       "    <tr>\n",
       "      <th>7</th>\n",
       "      <td>0</td>\n",
       "      <td>2</td>\n",
       "      <td>0</td>\n",
       "      <td>3</td>\n",
       "      <td>1</td>\n",
       "      <td>124</td>\n",
       "      <td>2</td>\n",
       "    </tr>\n",
       "    <tr>\n",
       "      <th>8</th>\n",
       "      <td>1</td>\n",
       "      <td>2</td>\n",
       "      <td>1</td>\n",
       "      <td>0</td>\n",
       "      <td>2</td>\n",
       "      <td>74</td>\n",
       "      <td>2</td>\n",
       "    </tr>\n",
       "    <tr>\n",
       "      <th>9</th>\n",
       "      <td>1</td>\n",
       "      <td>1</td>\n",
       "      <td>1</td>\n",
       "      <td>1</td>\n",
       "      <td>0</td>\n",
       "      <td>154</td>\n",
       "      <td>0</td>\n",
       "    </tr>\n",
       "  </tbody>\n",
       "</table>\n",
       "</div>"
      ],
      "text/plain": [
       "   Survived  Pclass  Sex  SibSp  Parch  Fare  Embarked\n",
       "0         0       2    0      1      0    18         2\n",
       "1         1       0    1      1      0   207         0\n",
       "2         1       2    1      0      0    41         2\n",
       "3         1       0    1      1      0   189         2\n",
       "4         0       2    0      0      0    43         2\n",
       "5         0       2    0      0      0    51         1\n",
       "6         0       0    0      0      0   186         2\n",
       "7         0       2    0      3      1   124         2\n",
       "8         1       2    1      0      2    74         2\n",
       "9         1       1    1      1      0   154         0"
      ]
     },
     "execution_count": 400,
     "metadata": {},
     "output_type": "execute_result"
    }
   ],
   "source": [
    "# Label Encoded using LabelEncoder()                         \n",
    "df_con_enc = df_con.apply(LabelEncoder().fit_transform)\n",
    "\n",
    "df_con_enc.head(10)"
   ]
  },
  {
   "cell_type": "markdown",
   "id": "d4a502b2",
   "metadata": {},
   "source": [
    "## Start Building Maching Learning Models"
   ]
  },
  {
   "cell_type": "markdown",
   "id": "13f4b479",
   "metadata": {},
   "source": [
    "#### first we use continous dataframe for simplicity"
   ]
  },
  {
   "cell_type": "code",
   "execution_count": 402,
   "id": "8ef868f4",
   "metadata": {},
   "outputs": [
    {
     "data": {
      "text/html": [
       "<div>\n",
       "<style scoped>\n",
       "    .dataframe tbody tr th:only-of-type {\n",
       "        vertical-align: middle;\n",
       "    }\n",
       "\n",
       "    .dataframe tbody tr th {\n",
       "        vertical-align: top;\n",
       "    }\n",
       "\n",
       "    .dataframe thead th {\n",
       "        text-align: right;\n",
       "    }\n",
       "</style>\n",
       "<table border=\"1\" class=\"dataframe\">\n",
       "  <thead>\n",
       "    <tr style=\"text-align: right;\">\n",
       "      <th></th>\n",
       "      <th>Survived</th>\n",
       "      <th>Pclass</th>\n",
       "      <th>Sex</th>\n",
       "      <th>SibSp</th>\n",
       "      <th>Parch</th>\n",
       "      <th>Fare</th>\n",
       "      <th>Embarked</th>\n",
       "    </tr>\n",
       "  </thead>\n",
       "  <tbody>\n",
       "    <tr>\n",
       "      <th>0</th>\n",
       "      <td>0</td>\n",
       "      <td>2</td>\n",
       "      <td>0</td>\n",
       "      <td>1</td>\n",
       "      <td>0</td>\n",
       "      <td>18</td>\n",
       "      <td>2</td>\n",
       "    </tr>\n",
       "    <tr>\n",
       "      <th>1</th>\n",
       "      <td>1</td>\n",
       "      <td>0</td>\n",
       "      <td>1</td>\n",
       "      <td>1</td>\n",
       "      <td>0</td>\n",
       "      <td>207</td>\n",
       "      <td>0</td>\n",
       "    </tr>\n",
       "    <tr>\n",
       "      <th>2</th>\n",
       "      <td>1</td>\n",
       "      <td>2</td>\n",
       "      <td>1</td>\n",
       "      <td>0</td>\n",
       "      <td>0</td>\n",
       "      <td>41</td>\n",
       "      <td>2</td>\n",
       "    </tr>\n",
       "    <tr>\n",
       "      <th>3</th>\n",
       "      <td>1</td>\n",
       "      <td>0</td>\n",
       "      <td>1</td>\n",
       "      <td>1</td>\n",
       "      <td>0</td>\n",
       "      <td>189</td>\n",
       "      <td>2</td>\n",
       "    </tr>\n",
       "    <tr>\n",
       "      <th>4</th>\n",
       "      <td>0</td>\n",
       "      <td>2</td>\n",
       "      <td>0</td>\n",
       "      <td>0</td>\n",
       "      <td>0</td>\n",
       "      <td>43</td>\n",
       "      <td>2</td>\n",
       "    </tr>\n",
       "  </tbody>\n",
       "</table>\n",
       "</div>"
      ],
      "text/plain": [
       "   Survived  Pclass  Sex  SibSp  Parch  Fare  Embarked\n",
       "0         0       2    0      1      0    18         2\n",
       "1         1       0    1      1      0   207         0\n",
       "2         1       2    1      0      0    41         2\n",
       "3         1       0    1      1      0   189         2\n",
       "4         0       2    0      0      0    43         2"
      ]
     },
     "execution_count": 402,
     "metadata": {},
     "output_type": "execute_result"
    }
   ],
   "source": [
    "df_con_enc.head()"
   ]
  },
  {
   "cell_type": "code",
   "execution_count": 404,
   "id": "9ab7e26a",
   "metadata": {},
   "outputs": [],
   "source": [
    "# Split the dataframe into features (predictive variables) and labels (target variable).\n",
    "X_train = df_con_enc.drop('Survived', axis= 1)      # --> Features\n",
    "y_train = df_con_enc['Survived']  "
   ]
  },
  {
   "cell_type": "code",
   "execution_count": 407,
   "id": "b8b3e266",
   "metadata": {},
   "outputs": [
    {
     "data": {
      "text/plain": [
       "0    0\n",
       "1    1\n",
       "2    1\n",
       "3    1\n",
       "4    0\n",
       "Name: Survived, dtype: int64"
      ]
     },
     "execution_count": 407,
     "metadata": {},
     "output_type": "execute_result"
    }
   ],
   "source": [
    "y_train.head(5)"
   ]
  },
  {
   "cell_type": "code",
   "execution_count": 408,
   "id": "95a6b44f",
   "metadata": {},
   "outputs": [
    {
     "data": {
      "text/html": [
       "<div>\n",
       "<style scoped>\n",
       "    .dataframe tbody tr th:only-of-type {\n",
       "        vertical-align: middle;\n",
       "    }\n",
       "\n",
       "    .dataframe tbody tr th {\n",
       "        vertical-align: top;\n",
       "    }\n",
       "\n",
       "    .dataframe thead th {\n",
       "        text-align: right;\n",
       "    }\n",
       "</style>\n",
       "<table border=\"1\" class=\"dataframe\">\n",
       "  <thead>\n",
       "    <tr style=\"text-align: right;\">\n",
       "      <th></th>\n",
       "      <th>Pclass</th>\n",
       "      <th>Sex</th>\n",
       "      <th>SibSp</th>\n",
       "      <th>Parch</th>\n",
       "      <th>Fare</th>\n",
       "      <th>Embarked</th>\n",
       "    </tr>\n",
       "  </thead>\n",
       "  <tbody>\n",
       "    <tr>\n",
       "      <th>0</th>\n",
       "      <td>2</td>\n",
       "      <td>0</td>\n",
       "      <td>1</td>\n",
       "      <td>0</td>\n",
       "      <td>18</td>\n",
       "      <td>2</td>\n",
       "    </tr>\n",
       "    <tr>\n",
       "      <th>1</th>\n",
       "      <td>0</td>\n",
       "      <td>1</td>\n",
       "      <td>1</td>\n",
       "      <td>0</td>\n",
       "      <td>207</td>\n",
       "      <td>0</td>\n",
       "    </tr>\n",
       "    <tr>\n",
       "      <th>2</th>\n",
       "      <td>2</td>\n",
       "      <td>1</td>\n",
       "      <td>0</td>\n",
       "      <td>0</td>\n",
       "      <td>41</td>\n",
       "      <td>2</td>\n",
       "    </tr>\n",
       "    <tr>\n",
       "      <th>3</th>\n",
       "      <td>0</td>\n",
       "      <td>1</td>\n",
       "      <td>1</td>\n",
       "      <td>0</td>\n",
       "      <td>189</td>\n",
       "      <td>2</td>\n",
       "    </tr>\n",
       "    <tr>\n",
       "      <th>4</th>\n",
       "      <td>2</td>\n",
       "      <td>0</td>\n",
       "      <td>0</td>\n",
       "      <td>0</td>\n",
       "      <td>43</td>\n",
       "      <td>2</td>\n",
       "    </tr>\n",
       "  </tbody>\n",
       "</table>\n",
       "</div>"
      ],
      "text/plain": [
       "   Pclass  Sex  SibSp  Parch  Fare  Embarked\n",
       "0       2    0      1      0    18         2\n",
       "1       0    1      1      0   207         0\n",
       "2       2    1      0      0    41         2\n",
       "3       0    1      1      0   189         2\n",
       "4       2    0      0      0    43         2"
      ]
     },
     "execution_count": 408,
     "metadata": {},
     "output_type": "execute_result"
    }
   ],
   "source": [
    "X_train.head()"
   ]
  },
  {
   "cell_type": "markdown",
   "id": "b8bc5761",
   "metadata": {},
   "source": [
    "### Model 1: Logistic Regression"
   ]
  },
  {
   "cell_type": "markdown",
   "id": "4e386798",
   "metadata": {},
   "source": [
    "#### In any model building, we mainly focus on 3 main steps:\n",
    "\n",
    "Fitting the model and finding the accuracy (accuracy score) of the fitted model.\n",
    "Perform K-Fold Cross Validation (K needs to be specified).\n",
    "Find the accuracy of the Cross Validation."
   ]
  },
  {
   "cell_type": "code",
   "execution_count": 420,
   "id": "04e5b53d",
   "metadata": {},
   "outputs": [],
   "source": [
    "import time\n",
    "import datetime\n",
    "start_time = time.time()\n",
    "algorithm = LogisticRegression()\n",
    "\n",
    "## Step 1:\n",
    "model = algorithm.fit(X_train, y_train)      # Creating the model. We will fit the algorithm to the training data.\n",
    "log_acc = round(model.score(X_train, y_train)*100, 2)\n",
    "\n",
    "## Step 2:  --> This code performs Cross Validation automatically.\n",
    "log_train_pred = model_selection.cross_val_predict(algorithm, X_train, y_train, cv= 10, n_jobs= -1)\n",
    "\n",
    "## Step 3:  --> Cross Validation accuracy metric.\n",
    "log_acc_cv = round(metrics.accuracy_score(y_train, log_train_pred)*100, 2)\n",
    "\n",
    "log_time = (time.time()- start_time)"
   ]
  },
  {
   "cell_type": "code",
   "execution_count": 418,
   "id": "7d153a90",
   "metadata": {},
   "outputs": [
    {
     "data": {
      "text/plain": [
       "0.1216740608215332"
      ]
     },
     "execution_count": 418,
     "metadata": {},
     "output_type": "execute_result"
    }
   ],
   "source": [
    "log_time"
   ]
  },
  {
   "cell_type": "code",
   "execution_count": 421,
   "id": "918f5dc1",
   "metadata": {},
   "outputs": [
    {
     "name": "stdout",
     "output_type": "stream",
     "text": [
      "Accuracy of the model is:  79.42\n",
      "Accuracy of 10-Fold CV is:  78.18\n",
      "Running time is:  0:00:00.112686\n"
     ]
    }
   ],
   "source": [
    "# Logistic Regression\n",
    "print('Accuracy of the model is: ', log_acc)\n",
    "print('Accuracy of 10-Fold CV is: ', log_acc_cv)\n",
    "print('Running time is: ', datetime.timedelta(seconds= log_time))"
   ]
  },
  {
   "cell_type": "markdown",
   "id": "eaa02d09",
   "metadata": {},
   "source": [
    "### Model 2: Gaussian Naive Bayes"
   ]
  },
  {
   "cell_type": "code",
   "execution_count": 423,
   "id": "49c20f95",
   "metadata": {},
   "outputs": [
    {
     "name": "stdout",
     "output_type": "stream",
     "text": [
      "Accuracy of the model is:  76.72\n",
      "Accuracy of 10-Fold CV is:  76.38\n",
      "Running time is:  0:00:00.036932\n"
     ]
    }
   ],
   "source": [
    "start_time = time.time()\n",
    "algorithm = GaussianNB()\n",
    "\n",
    "## Step 1:\n",
    "model = algorithm.fit(X_train, y_train)      # Creating the model. We will fit the algorithm to the training data.\n",
    "gnb_acc = round(model.score(X_train, y_train)*100, 2)\n",
    "\n",
    "## Step 2:  --> This code performs Cross Validation automatically.\n",
    "gnb_train_pred = model_selection.cross_val_predict(algorithm, X_train, y_train, cv= 10, n_jobs= -1)\n",
    "\n",
    "## Step 3:  --> Cross Validation accuracy metric.\n",
    "gnb_acc_cv = round(metrics.accuracy_score(y_train, gnb_train_pred)*100, 2)\n",
    "\n",
    "gnb_time = (time.time()- start_time)\n",
    "# Gaussian Naive Bayes\n",
    "print('Accuracy of the model is: ', gnb_acc)\n",
    "print('Accuracy of 10-Fold CV is: ', gnb_acc_cv)\n",
    "print('Running time is: ', datetime.timedelta(seconds= gnb_time))"
   ]
  },
  {
   "cell_type": "markdown",
   "id": "328fe0a2",
   "metadata": {},
   "source": [
    "### Model 3: K-Nearest Neighbours"
   ]
  },
  {
   "cell_type": "code",
   "execution_count": 424,
   "id": "766182cf",
   "metadata": {},
   "outputs": [
    {
     "name": "stdout",
     "output_type": "stream",
     "text": [
      "Accuracy of the model is:  76.72\n",
      "Accuracy of 10-Fold CV is:  74.58\n",
      "Running time is:  0:00:00.102757\n"
     ]
    }
   ],
   "source": [
    "start_time = time.time()\n",
    "algorithm = KNeighborsClassifier()\n",
    "\n",
    "## Step 1:\n",
    "model = algorithm.fit(X_train, y_train)      # Creating the model. We will fit the algorithm to the training data.\n",
    "knn_acc = round(model.score(X_train, y_train)*100, 2)\n",
    "\n",
    "## Step 2:  --> This code performs Cross Validation automatically.\n",
    "knn_train_pred = model_selection.cross_val_predict(algorithm, X_train, y_train, cv= 10, n_jobs= -1)\n",
    "\n",
    "## Step 3:  --> Cross Validation accuracy metric.\n",
    "knn_acc_cv = round(metrics.accuracy_score(y_train, knn_train_pred)*100, 2)\n",
    "\n",
    "knn_time = (time.time()- start_time)\n",
    "# K-Nearest Neighbours\n",
    "print('Accuracy of the model is: ', knn_acc)\n",
    "print('Accuracy of 10-Fold CV is: ', knn_acc_cv)\n",
    "print('Running time is: ', datetime.timedelta(seconds= knn_time))"
   ]
  },
  {
   "cell_type": "markdown",
   "id": "e490f597",
   "metadata": {},
   "source": [
    "### Model 4: Linear Support Vector Machines (SVC)"
   ]
  },
  {
   "cell_type": "code",
   "execution_count": 425,
   "id": "e7ca47dd",
   "metadata": {},
   "outputs": [
    {
     "name": "stdout",
     "output_type": "stream",
     "text": [
      "Accuracy of the model is:  78.63\n",
      "Accuracy of 10-Fold CV is:  67.94\n",
      "Running time is:  0:00:00.147936\n"
     ]
    }
   ],
   "source": [
    "start_time = time.time()\n",
    "algorithm = LinearSVC()\n",
    "\n",
    "## Step 1:\n",
    "model = algorithm.fit(X_train, y_train)      # Creating the model. We will fit the algorithm to the training data.\n",
    "svc_acc = round(model.score(X_train, y_train)*100, 2)\n",
    "\n",
    "## Step 2:  --> This code performs Cross Validation automatically.\n",
    "svc_train_pred = model_selection.cross_val_predict(algorithm, X_train, y_train, cv= 10, n_jobs= -1)\n",
    "\n",
    "## Step 3:  --> Cross Validation accuracy metric.\n",
    "svc_acc_cv = round(metrics.accuracy_score(y_train, svc_train_pred)*100, 2)\n",
    "\n",
    "svc_time = (time.time()- start_time)\n",
    "# Linear Support Vector Machines\n",
    "print('Accuracy of the model is: ', svc_acc)\n",
    "print('Accuracy of 10-Fold CV is: ', svc_acc_cv)\n",
    "print('Running time is: ', datetime.timedelta(seconds= svc_time))"
   ]
  },
  {
   "cell_type": "markdown",
   "id": "d02a9c42",
   "metadata": {},
   "source": [
    "### Model 5: Stochastic Gradient Descent"
   ]
  },
  {
   "cell_type": "code",
   "execution_count": 426,
   "id": "c058955b",
   "metadata": {},
   "outputs": [
    {
     "name": "stdout",
     "output_type": "stream",
     "text": [
      "Accuracy of the model is:  62.09\n",
      "Accuracy of 10-Fold CV is:  65.69\n",
      "Running time is:  0:00:00.045910\n"
     ]
    }
   ],
   "source": [
    "start_time = time.time()\n",
    "algorithm = SGDClassifier()\n",
    "\n",
    "## Step 1:\n",
    "model = algorithm.fit(X_train, y_train)      # Creating the model. We will fit the algorithm to the training data.\n",
    "SGD_acc = round(model.score(X_train, y_train)*100, 2)\n",
    "\n",
    "## Step 2:  --> This code performs Cross Validation automatically.\n",
    "SGD_train_pred = model_selection.cross_val_predict(algorithm, X_train, y_train, cv= 10, n_jobs= -1)\n",
    "\n",
    "## Step 3:  --> Cross Validation accuracy metric.\n",
    "SGD_acc_cv = round(metrics.accuracy_score(y_train, SGD_train_pred)*100, 2)\n",
    "\n",
    "SGD_time = (time.time()- start_time)\n",
    "# Stochastic Gradient Descent\n",
    "print('Accuracy of the model is: ', SGD_acc)\n",
    "print('Accuracy of 10-Fold CV is: ', SGD_acc_cv)\n",
    "print('Running time is: ', datetime.timedelta(seconds= SGD_time))"
   ]
  },
  {
   "cell_type": "markdown",
   "id": "872d4c58",
   "metadata": {},
   "source": [
    "### Model 6: Decision Tree Classifier"
   ]
  },
  {
   "cell_type": "code",
   "execution_count": 427,
   "id": "640738fc",
   "metadata": {},
   "outputs": [
    {
     "name": "stdout",
     "output_type": "stream",
     "text": [
      "Accuracy of the model is:  92.46\n",
      "Accuracy of 10-Fold CV is:  79.53\n",
      "Running time is:  0:00:00.067819\n"
     ]
    }
   ],
   "source": [
    "start_time = time.time()\n",
    "algorithm = DecisionTreeClassifier()\n",
    "\n",
    "## Step 1:\n",
    "model = algorithm.fit(X_train, y_train)      # Creating the model. We will fit the algorithm to the training data.\n",
    "dt_acc = round(model.score(X_train, y_train)*100, 2)\n",
    "\n",
    "## Step 2:  --> This code performs Cross Validation automatically.\n",
    "dt_train_pred = model_selection.cross_val_predict(algorithm, X_train, y_train, cv= 10, n_jobs= -1)\n",
    "\n",
    "## Step 3:  --> Cross Validation accuracy metric.\n",
    "dt_acc_cv = round(metrics.accuracy_score(y_train, dt_train_pred)*100, 2)\n",
    "\n",
    "dt_time = (time.time()- start_time)\n",
    "#  Decision Tree Classifier\n",
    "print('Accuracy of the model is: ', dt_acc)\n",
    "print('Accuracy of 10-Fold CV is: ', dt_acc_cv)\n",
    "print('Running time is: ', datetime.timedelta(seconds= dt_time))"
   ]
  },
  {
   "cell_type": "markdown",
   "id": "7ba48402",
   "metadata": {},
   "source": [
    "### Model 7: Gradient Boost Trees"
   ]
  },
  {
   "cell_type": "code",
   "execution_count": 428,
   "id": "574d8796",
   "metadata": {},
   "outputs": [
    {
     "name": "stdout",
     "output_type": "stream",
     "text": [
      "Accuracy of the model is:  86.39\n",
      "Accuracy of 10-Fold CV is:  81.1\n",
      "Running time is:  0:00:00.587106\n"
     ]
    }
   ],
   "source": [
    "start_time = time.time()\n",
    "algorithm = GradientBoostingClassifier()\n",
    "\n",
    "## Step 1:\n",
    "model = algorithm.fit(X_train, y_train)      # Creating the model. We will fit the algorithm to the training data.\n",
    "gbt_acc = round(model.score(X_train, y_train)*100, 2)\n",
    "\n",
    "## Step 2:  --> This code performs Cross Validation automatically.\n",
    "gbt_train_pred = model_selection.cross_val_predict(algorithm, X_train, y_train, cv= 10, n_jobs= -1)\n",
    "\n",
    "## Step 3:  --> Cross Validation accuracy metric.\n",
    "gbt_acc_cv = round(metrics.accuracy_score(y_train, gbt_train_pred)*100, 2)\n",
    "\n",
    "gbt_time = (time.time()- start_time)\n",
    "#  Decision Tree Classifier\n",
    "print('Accuracy of the model is: ', gbt_acc)\n",
    "print('Accuracy of 10-Fold CV is: ', gbt_acc_cv)\n",
    "print('Running time is: ', datetime.timedelta(seconds= gbt_time))"
   ]
  },
  {
   "cell_type": "markdown",
   "id": "2db0f90c",
   "metadata": {},
   "source": [
    "## RESULT"
   ]
  },
  {
   "cell_type": "code",
   "execution_count": 429,
   "id": "f0316243",
   "metadata": {},
   "outputs": [
    {
     "name": "stdout",
     "output_type": "stream",
     "text": [
      "Cross-Validation Accuracy Scores\n"
     ]
    },
    {
     "data": {
      "text/html": [
       "<div>\n",
       "<style scoped>\n",
       "    .dataframe tbody tr th:only-of-type {\n",
       "        vertical-align: middle;\n",
       "    }\n",
       "\n",
       "    .dataframe tbody tr th {\n",
       "        vertical-align: top;\n",
       "    }\n",
       "\n",
       "    .dataframe thead th {\n",
       "        text-align: right;\n",
       "    }\n",
       "</style>\n",
       "<table border=\"1\" class=\"dataframe\">\n",
       "  <thead>\n",
       "    <tr style=\"text-align: right;\">\n",
       "      <th></th>\n",
       "      <th>Model</th>\n",
       "      <th>Score</th>\n",
       "    </tr>\n",
       "  </thead>\n",
       "  <tbody>\n",
       "    <tr>\n",
       "      <th>6</th>\n",
       "      <td>Gradient Boost Trees</td>\n",
       "      <td>81.10</td>\n",
       "    </tr>\n",
       "    <tr>\n",
       "      <th>5</th>\n",
       "      <td>Decision Tree Classifier</td>\n",
       "      <td>79.53</td>\n",
       "    </tr>\n",
       "    <tr>\n",
       "      <th>0</th>\n",
       "      <td>Logistic Regression</td>\n",
       "      <td>78.18</td>\n",
       "    </tr>\n",
       "    <tr>\n",
       "      <th>2</th>\n",
       "      <td>Gaussian Naive Bayes</td>\n",
       "      <td>76.38</td>\n",
       "    </tr>\n",
       "    <tr>\n",
       "      <th>1</th>\n",
       "      <td>K-Nearest Neighbours</td>\n",
       "      <td>74.58</td>\n",
       "    </tr>\n",
       "    <tr>\n",
       "      <th>3</th>\n",
       "      <td>Linear Support Vector Machines (SVC)</td>\n",
       "      <td>67.94</td>\n",
       "    </tr>\n",
       "    <tr>\n",
       "      <th>4</th>\n",
       "      <td>Stochastic Gradient Descent</td>\n",
       "      <td>65.69</td>\n",
       "    </tr>\n",
       "  </tbody>\n",
       "</table>\n",
       "</div>"
      ],
      "text/plain": [
       "                                  Model  Score\n",
       "6                  Gradient Boost Trees  81.10\n",
       "5              Decision Tree Classifier  79.53\n",
       "0                   Logistic Regression  78.18\n",
       "2                  Gaussian Naive Bayes  76.38\n",
       "1                  K-Nearest Neighbours  74.58\n",
       "3  Linear Support Vector Machines (SVC)  67.94\n",
       "4           Stochastic Gradient Descent  65.69"
      ]
     },
     "execution_count": 429,
     "metadata": {},
     "output_type": "execute_result"
    }
   ],
   "source": [
    "cv_models = pd.DataFrame({'Model':[' Logistic Regression', 'K-Nearest Neighbours', 'Gaussian Naive Bayes', \n",
    "                                'Linear Support Vector Machines (SVC)', 'Stochastic Gradient Descent', \n",
    "                                'Decision Tree Classifier', 'Gradient Boost Trees'],\n",
    "                      'Score':[log_acc_cv, knn_acc_cv, gnb_acc_cv, svc_acc_cv, SGD_acc_cv, dt_acc_cv, gbt_acc_cv\n",
    "                               ]})\n",
    "\n",
    "print('Cross-Validation Accuracy Scores')\n",
    "cv_models.nlargest(8,'Score')"
   ]
  },
  {
   "cell_type": "markdown",
   "id": "7663ddfd",
   "metadata": {},
   "source": [
    "### We can see that Gradient Boost Trees\t model has the best result. Since guessing would give us 50% accuracy (0 or 1), getting under 81% is pretty good.\n",
    "\n",
    "#### Gradient Boost Trees is more robust than the .fit() model as it does multiple passes over the data instead of one."
   ]
  },
  {
   "cell_type": "code",
   "execution_count": null,
   "id": "7b767ce9",
   "metadata": {},
   "outputs": [],
   "source": []
  },
  {
   "cell_type": "code",
   "execution_count": null,
   "id": "67b2fc98",
   "metadata": {},
   "outputs": [],
   "source": []
  },
  {
   "cell_type": "code",
   "execution_count": null,
   "id": "3d661cc6",
   "metadata": {},
   "outputs": [],
   "source": []
  },
  {
   "cell_type": "code",
   "execution_count": null,
   "id": "c242ed63",
   "metadata": {},
   "outputs": [],
   "source": []
  },
  {
   "cell_type": "markdown",
   "id": "0eebc072",
   "metadata": {},
   "source": []
  },
  {
   "cell_type": "code",
   "execution_count": null,
   "id": "6a4d7232",
   "metadata": {},
   "outputs": [],
   "source": []
  },
  {
   "cell_type": "code",
   "execution_count": null,
   "id": "94842ec9",
   "metadata": {},
   "outputs": [],
   "source": []
  },
  {
   "cell_type": "code",
   "execution_count": null,
   "id": "d181ed9b",
   "metadata": {},
   "outputs": [],
   "source": []
  },
  {
   "cell_type": "code",
   "execution_count": null,
   "id": "53eb52ad",
   "metadata": {},
   "outputs": [],
   "source": []
  },
  {
   "cell_type": "code",
   "execution_count": null,
   "id": "e8140770",
   "metadata": {},
   "outputs": [],
   "source": []
  },
  {
   "cell_type": "code",
   "execution_count": null,
   "id": "9da54e8d",
   "metadata": {},
   "outputs": [],
   "source": []
  },
  {
   "cell_type": "code",
   "execution_count": null,
   "id": "1cfa2fde",
   "metadata": {},
   "outputs": [],
   "source": []
  },
  {
   "cell_type": "code",
   "execution_count": null,
   "id": "97729162",
   "metadata": {},
   "outputs": [],
   "source": []
  },
  {
   "cell_type": "code",
   "execution_count": null,
   "id": "31ba7e35",
   "metadata": {},
   "outputs": [],
   "source": []
  },
  {
   "cell_type": "markdown",
   "id": "cd479490",
   "metadata": {},
   "source": [
    "## test\n",
    "### adding 0 in column in Cabin where column has null value"
   ]
  },
  {
   "cell_type": "code",
   "execution_count": 211,
   "id": "fa18c85d",
   "metadata": {},
   "outputs": [],
   "source": [
    "cursor.execute(\"update test set Cabin = coalesce(Cabin,'null')\")\n",
    "for x in cursor:\n",
    "    print(x)"
   ]
  },
  {
   "cell_type": "code",
   "execution_count": 205,
   "id": "5532cc9c",
   "metadata": {},
   "outputs": [],
   "source": [
    "cursor.execute(\"UPDATE test SET Cabin = 0 WHERE Cabin= 'null' \")\n",
    "for x in cursor:\n",
    "    print(x)"
   ]
  },
  {
   "cell_type": "code",
   "execution_count": 212,
   "id": "933748ef",
   "metadata": {},
   "outputs": [
    {
     "name": "stdout",
     "output_type": "stream",
     "text": [
      "(892, 3, 'Kelly, Mr. James', 'male', 34.5, 0, 0, '330911', 7.8292, '0', 'Q')\n",
      "(893, 3, 'Wilkes, Mrs. James (Ellen Needs)', 'female', 47.0, 1, 0, '363272', 7.0, '0', 'S')\n",
      "(894, 2, 'Myles, Mr. Thomas Francis', 'male', 62.0, 0, 0, '240276', 9.6875, '0', 'Q')\n",
      "(895, 3, 'Wirz, Mr. Albert', 'male', 27.0, 0, 0, '315154', 8.6625, '0', 'S')\n",
      "(896, 3, 'Hirvonen, Mrs. Alexander (Helga E Lindqvist)', 'female', 22.0, 1, 1, '3101298', 12.2875, '0', 'S')\n"
     ]
    }
   ],
   "source": [
    "cursor.execute(\"select * from test limit 5 \")\n",
    "for x in cursor:\n",
    "    print(x)"
   ]
  },
  {
   "cell_type": "markdown",
   "id": "40483e0d",
   "metadata": {},
   "source": []
  },
  {
   "cell_type": "code",
   "execution_count": null,
   "id": "f3025a98",
   "metadata": {},
   "outputs": [],
   "source": []
  },
  {
   "cell_type": "code",
   "execution_count": null,
   "id": "3476e4ed",
   "metadata": {},
   "outputs": [],
   "source": []
  },
  {
   "cell_type": "code",
   "execution_count": null,
   "id": "1da441d6",
   "metadata": {},
   "outputs": [],
   "source": []
  },
  {
   "cell_type": "code",
   "execution_count": null,
   "id": "ebb282ba",
   "metadata": {},
   "outputs": [],
   "source": []
  },
  {
   "cell_type": "code",
   "execution_count": null,
   "id": "1a267fb1",
   "metadata": {},
   "outputs": [],
   "source": []
  },
  {
   "cell_type": "code",
   "execution_count": null,
   "id": "94dd6f41",
   "metadata": {},
   "outputs": [],
   "source": []
  },
  {
   "cell_type": "markdown",
   "id": "ab528ff1",
   "metadata": {},
   "source": []
  },
  {
   "cell_type": "code",
   "execution_count": null,
   "id": "485902b9",
   "metadata": {},
   "outputs": [],
   "source": []
  },
  {
   "cell_type": "code",
   "execution_count": null,
   "id": "50eba0de",
   "metadata": {},
   "outputs": [],
   "source": []
  },
  {
   "cell_type": "code",
   "execution_count": null,
   "id": "19b19b8f",
   "metadata": {},
   "outputs": [],
   "source": []
  },
  {
   "cell_type": "code",
   "execution_count": null,
   "id": "c3a7a2d7",
   "metadata": {},
   "outputs": [],
   "source": []
  },
  {
   "cell_type": "code",
   "execution_count": null,
   "id": "b9f2781d",
   "metadata": {},
   "outputs": [],
   "source": []
  },
  {
   "cell_type": "code",
   "execution_count": null,
   "id": "323caed3",
   "metadata": {},
   "outputs": [],
   "source": []
  },
  {
   "cell_type": "code",
   "execution_count": null,
   "id": "d33c5bda",
   "metadata": {},
   "outputs": [],
   "source": []
  },
  {
   "cell_type": "code",
   "execution_count": null,
   "id": "dcad2b64",
   "metadata": {},
   "outputs": [],
   "source": []
  },
  {
   "cell_type": "code",
   "execution_count": null,
   "id": "0b15dc74",
   "metadata": {},
   "outputs": [],
   "source": []
  }
 ],
 "metadata": {
  "kernelspec": {
   "display_name": "Python 3 (ipykernel)",
   "language": "python",
   "name": "python3"
  },
  "language_info": {
   "codemirror_mode": {
    "name": "ipython",
    "version": 3
   },
   "file_extension": ".py",
   "mimetype": "text/x-python",
   "name": "python",
   "nbconvert_exporter": "python",
   "pygments_lexer": "ipython3",
   "version": "3.11.5"
  }
 },
 "nbformat": 4,
 "nbformat_minor": 5
}
